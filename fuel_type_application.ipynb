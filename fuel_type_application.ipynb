{
 "cells": [
  {
   "cell_type": "code",
   "execution_count": 2,
   "metadata": {},
   "outputs": [],
   "source": [
    "import pandas as pd\n",
    "\n",
    "train_df = pd.read_csv('/Users/hyunkoolee/google_mlb/kaggle/kaggle_playground-series-s4e9/data/playground-series-s4e9/train.csv')\n",
    "test_df = pd.read_csv('/Users/hyunkoolee/google_mlb/kaggle/kaggle_playground-series-s4e9/data/playground-series-s4e9/test.csv')"
   ]
  },
  {
   "cell_type": "markdown",
   "metadata": {},
   "source": [
    "Fuel Type 결측치 not supported 로 통일"
   ]
  },
  {
   "cell_type": "code",
   "execution_count": 3,
   "metadata": {},
   "outputs": [],
   "source": [
    "# Function to clean fuel_type by replacing NaN and '-' values with 'not supported'\n",
    "def clean_fuel_type(df):\n",
    "    df['fuel_type'] = df['fuel_type'].fillna('not supported')\n",
    "    df['fuel_type'] = df['fuel_type'].str.strip().replace(['-', '–'], 'not supported')\n",
    "    return df\n",
    "\n",
    "train_df = clean_fuel_type(train_df)\n",
    "test_df = clean_fuel_type(test_df)"
   ]
  },
  {
   "cell_type": "markdown",
   "metadata": {},
   "source": [
    "1. 가장 기본이 되는 엔진명에 연료 직접 포함여부 기준으로 분류 상황 체크"
   ]
  },
  {
   "cell_type": "code",
   "execution_count": null,
   "metadata": {},
   "outputs": [],
   "source": []
  },
  {
   "cell_type": "code",
   "execution_count": 4,
   "metadata": {},
   "outputs": [
    {
     "name": "stdout",
     "output_type": "stream",
     "text": [
      "       fuel_type fuel_type_extracted_1 fuel_type_updated_1  \\\n",
      "0       Gasoline              Gasoline            Gasoline   \n",
      "1       Gasoline              Gasoline            Gasoline   \n",
      "2  E85 Flex Fuel         E85 Flex Fuel       E85 Flex Fuel   \n",
      "3       Gasoline              Gasoline            Gasoline   \n",
      "4       Gasoline              Gasoline            Gasoline   \n",
      "\n",
      "                                              engine  \n",
      "0       172.0HP 1.6L 4 Cylinder Engine Gasoline Fuel  \n",
      "1       252.0HP 3.9L 8 Cylinder Engine Gasoline Fuel  \n",
      "2  320.0HP 5.3L 8 Cylinder Engine Flex Fuel Capab...  \n",
      "3       420.0HP 5.0L 8 Cylinder Engine Gasoline Fuel  \n",
      "4       208.0HP 2.0L 4 Cylinder Engine Gasoline Fuel  \n",
      "fuel_type\n",
      "Gasoline          165940\n",
      "Hybrid              6832\n",
      "not supported       5879\n",
      "E85 Flex Fuel       5406\n",
      "Diesel              3955\n",
      "Plug-In Hybrid       521\n",
      "Name: count, dtype: int64\n",
      "fuel_type_extracted_1\n",
      "Gasoline         139734\n",
      "not supported     31546\n",
      "Electric           7566\n",
      "E85 Flex Fuel      5168\n",
      "Diesel             4119\n",
      "Hybrid              400\n",
      "Name: count, dtype: int64\n",
      "fuel_type_updated_1\n",
      "Gasoline          166001\n",
      "Hybrid              6832\n",
      "E85 Flex Fuel       5408\n",
      "Electric            4863\n",
      "Diesel              3957\n",
      "not supported        951\n",
      "Plug-In Hybrid       521\n",
      "Name: count, dtype: int64\n"
     ]
    }
   ],
   "source": [
    "train_df_1 = train_df.copy()\n",
    "test_df_1 = test_df.copy()\n",
    "\n",
    "# Improved function to extract fuel type from engine\n",
    "def extract_fuel_from_engine_1(df):\n",
    "    extracted_fuel_types = []\n",
    "    \n",
    "    for engine in df['engine']:\n",
    "        engine = engine.lower() if isinstance(engine, str) else ''\n",
    "        if 'gasoline' in engine:\n",
    "            extracted_fuel_types.append('Gasoline')\n",
    "        elif 'diesel' in engine:\n",
    "            extracted_fuel_types.append('Diesel')\n",
    "        elif 'flex fuel' in engine:\n",
    "            extracted_fuel_types.append('E85 Flex Fuel')\n",
    "        elif 'electric' in engine:\n",
    "            extracted_fuel_types.append('Electric')\n",
    "        elif 'plug-in hybrid' in engine:\n",
    "            extracted_fuel_types.append('Plug-In Hybrid')\n",
    "        elif 'hybrid' in engine and 'plug-in' not in engine:\n",
    "            extracted_fuel_types.append('Hybrid')\n",
    "        else:\n",
    "            extracted_fuel_types.append('not supported')\n",
    "    \n",
    "    df['fuel_type_extracted_1'] = extracted_fuel_types\n",
    "    return df\n",
    "\n",
    "# Update function to apply extracted fuel types only where necessary\n",
    "# 초기 버전은 결측치에 대해서만 엔진으로부터 추출된 정보를 채워줌\n",
    "def update_fuel_type(df, trial_index):\n",
    "    condition = df['fuel_type'].isin(['not supported']) | df['fuel_type'].isna()\n",
    "    # df.loc[condition, 'fuel_type'] = df.loc[condition, 'fuel_type_extracted']\n",
    "    df[f'fuel_type_updated_{trial_index}'] = df['fuel_type'].where(~condition, df[f'fuel_type_extracted_{trial_index}'])\n",
    "    return df\n",
    "\n",
    "# Apply the cleaning, extraction, and update process\n",
    "train_df_1 = clean_fuel_type(train_df_1)  # Clean fuel_type column\n",
    "train_df_1 = extract_fuel_from_engine_1(train_df_1)  # Extract fuel types from engine\n",
    "train_df_1 = update_fuel_type(train_df_1, 1)  # Update fuel_type based on extracted values\n",
    "\n",
    "# 처리 후 결과 확인\n",
    "print(train_df_1[['fuel_type', 'fuel_type_extracted_1', 'fuel_type_updated_1', 'engine']].head())\n",
    "\n",
    "# fuel_type 고유값 카운트 확인\n",
    "print(train_df_1['fuel_type'].value_counts())\n",
    "print(train_df_1['fuel_type_extracted_1'].value_counts())\n",
    "print(train_df_1['fuel_type_updated_1'].value_counts())\n"
   ]
  },
  {
   "cell_type": "markdown",
   "metadata": {},
   "source": [
    "결측치가 엔진정보로 보간된 케이스 확인"
   ]
  },
  {
   "cell_type": "code",
   "execution_count": 5,
   "metadata": {},
   "outputs": [
    {
     "name": "stdout",
     "output_type": "stream",
     "text": [
      "            fuel_type fuel_type_extracted_1 fuel_type_updated_1  \\\n",
      "119164  not supported              Electric            Electric   \n",
      "130680  not supported              Electric            Electric   \n",
      "183289  not supported              Electric            Electric   \n",
      "188056  not supported              Electric            Electric   \n",
      "156776  not supported              Electric            Electric   \n",
      "91545   not supported              Electric            Electric   \n",
      "50029   not supported              Electric            Electric   \n",
      "113764  not supported              Electric            Electric   \n",
      "81038   not supported              Electric            Electric   \n",
      "181102  not supported              Electric            Electric   \n",
      "116286  not supported              Electric            Electric   \n",
      "125658  not supported              Electric            Electric   \n",
      "184003  not supported              Electric            Electric   \n",
      "104146  not supported              Electric            Electric   \n",
      "41518   not supported              Electric            Electric   \n",
      "8433    not supported              Electric            Electric   \n",
      "51385   not supported              Electric            Electric   \n",
      "58838   not supported              Electric            Electric   \n",
      "58998   not supported              Electric            Electric   \n",
      "113412  not supported              Electric            Electric   \n",
      "\n",
      "                                             engine  \n",
      "119164  670.0HP Electric Motor Electric Fuel System  \n",
      "130680  500.0HP Electric Motor Electric Fuel System  \n",
      "183289  518.0HP Electric Motor Electric Fuel System  \n",
      "188056  670.0HP Electric Motor Electric Fuel System  \n",
      "156776                                     Electric  \n",
      "91545   518.0HP Electric Motor Electric Fuel System  \n",
      "50029   425.0HP Electric Motor Electric Fuel System  \n",
      "113764                                     Electric  \n",
      "81038   425.0HP Electric Motor Electric Fuel System  \n",
      "181102          Electric Motor Electric Fuel System  \n",
      "116286                                     Electric  \n",
      "125658  670.0HP Electric Motor Electric Fuel System  \n",
      "184003  835.0HP Electric Motor Electric Fuel System  \n",
      "104146          Electric Motor Electric Fuel System  \n",
      "41518   416.0HP Electric Motor Electric Fuel System  \n",
      "8433    518.0HP Electric Motor Electric Fuel System  \n",
      "51385                                      Electric  \n",
      "58838   375.0HP Electric Motor Electric Fuel System  \n",
      "58998   271.0HP Electric Motor Electric Fuel System  \n",
      "113412  518.0HP Electric Motor Electric Fuel System  \n"
     ]
    }
   ],
   "source": [
    "# Find Changed Cases\n",
    "not_supported_updated_cases = train_df_1[(train_df_1['fuel_type'] != train_df_1['fuel_type_updated_1'])]\n",
    "print(not_supported_updated_cases[['fuel_type', 'fuel_type_extracted_1', 'fuel_type_updated_1', 'engine']].sample(n=20))"
   ]
  },
  {
   "cell_type": "markdown",
   "metadata": {},
   "source": [
    "결측치가 엔진 정보로 보간되지 않은 케이스 확인 (엔진 정보로부터 연료 추출 실패)"
   ]
  },
  {
   "cell_type": "code",
   "execution_count": 6,
   "metadata": {},
   "outputs": [
    {
     "name": "stdout",
     "output_type": "stream",
     "text": [
      "            fuel_type fuel_type_extracted_1 fuel_type_updated_1  \\\n",
      "50580   not supported         not supported       not supported   \n",
      "84109   not supported         not supported       not supported   \n",
      "16637   not supported         not supported       not supported   \n",
      "182335  not supported         not supported       not supported   \n",
      "101476  not supported         not supported       not supported   \n",
      "172321  not supported         not supported       not supported   \n",
      "140691  not supported         not supported       not supported   \n",
      "100648  not supported         not supported       not supported   \n",
      "42146   not supported         not supported       not supported   \n",
      "48422   not supported         not supported       not supported   \n",
      "140517  not supported         not supported       not supported   \n",
      "80485   not supported         not supported       not supported   \n",
      "149204  not supported         not supported       not supported   \n",
      "46732   not supported         not supported       not supported   \n",
      "2234    not supported         not supported       not supported   \n",
      "19730   not supported         not supported       not supported   \n",
      "77895   not supported         not supported       not supported   \n",
      "105015  not supported         not supported       not supported   \n",
      "5010    not supported         not supported       not supported   \n",
      "115028  not supported         not supported       not supported   \n",
      "\n",
      "                       engine  \n",
      "50580                       –  \n",
      "84109                       –  \n",
      "16637                       –  \n",
      "182335                      –  \n",
      "101476                      –  \n",
      "172321                      –  \n",
      "140691  Dual Motor - Standard  \n",
      "100648                      –  \n",
      "42146                       –  \n",
      "48422                       –  \n",
      "140517                      –  \n",
      "80485                       –  \n",
      "149204                      –  \n",
      "46732                       –  \n",
      "2234                        –  \n",
      "19730                       –  \n",
      "77895                       –  \n",
      "105015              3.5 Liter  \n",
      "5010                        –  \n",
      "115028                      –  \n"
     ]
    }
   ],
   "source": [
    "# Find not updated 'not supported' cases\n",
    "not_supported_unchanged_cases = train_df_1[(train_df_1['fuel_type'] == 'not supported') & (train_df_1['fuel_type_updated_1'] == 'not supported')]\n",
    "print(not_supported_unchanged_cases[['fuel_type', 'fuel_type_extracted_1', 'fuel_type_updated_1', 'engine']].sample(n=20))"
   ]
  },
  {
   "cell_type": "markdown",
   "metadata": {},
   "source": [
    "엔진 정보가 있음에도 불구하고 연료 추출에 실패한 경우 확인"
   ]
  },
  {
   "cell_type": "code",
   "execution_count": 7,
   "metadata": {},
   "outputs": [
    {
     "name": "stdout",
     "output_type": "stream",
     "text": [
      "(179, 15)\n",
      "            fuel_type fuel_type_extracted_1 fuel_type_updated_1  \\\n",
      "112813  not supported         not supported       not supported   \n",
      "73898   not supported         not supported       not supported   \n",
      "116523  not supported         not supported       not supported   \n",
      "25497   not supported         not supported       not supported   \n",
      "171843  not supported         not supported       not supported   \n",
      "124698  not supported         not supported       not supported   \n",
      "158470  not supported         not supported       not supported   \n",
      "176165  not supported         not supported       not supported   \n",
      "181625  not supported         not supported       not supported   \n",
      "140103  not supported         not supported       not supported   \n",
      "43295   not supported         not supported       not supported   \n",
      "105568  not supported         not supported       not supported   \n",
      "33836   not supported         not supported       not supported   \n",
      "54186   not supported         not supported       not supported   \n",
      "71798   not supported         not supported       not supported   \n",
      "89281   not supported         not supported       not supported   \n",
      "94547   not supported         not supported       not supported   \n",
      "140052  not supported         not supported       not supported   \n",
      "103453  not supported         not supported       not supported   \n",
      "28181   not supported         not supported       not supported   \n",
      "\n",
      "                                     engine  \n",
      "112813                3.6L V6 24V MPFI DOHC  \n",
      "73898                 Dual Motor - Standard  \n",
      "116523                            5.6 Liter  \n",
      "25497                Standard Range Battery  \n",
      "171843                Dual Motor - Standard  \n",
      "124698  111.2Ah / FR 70kW / RR 160kW (697V)  \n",
      "158470                Dual Motor - Standard  \n",
      "176165                            4.0 Liter  \n",
      "181625                            4.0 Liter  \n",
      "140103                Dual Motor - Standard  \n",
      "43295                       2.0 Liter Turbo  \n",
      "105568                Dual Motor - Standard  \n",
      "33836                        2.0 Liter TFSI  \n",
      "54186                 Dual Motor - Standard  \n",
      "71798                 Dual Motor - Standard  \n",
      "89281      8.0L W16 64V GDI DOHC Twin Turbo  \n",
      "94547                Standard Range Battery  \n",
      "140052                Dual Motor - Standard  \n",
      "103453                 5.7L V8 16V MPFI OHV  \n",
      "28181                 Dual Motor - Standard  \n"
     ]
    }
   ],
   "source": [
    "# Find not updated but engine info exist cases\n",
    "engine_exist_but_unchanged_cases = not_supported_unchanged_cases[not_supported_unchanged_cases['engine'] != '–']\n",
    "print(engine_exist_but_unchanged_cases.shape)\n",
    "print(engine_exist_but_unchanged_cases[['fuel_type', 'fuel_type_extracted_1', 'fuel_type_updated_1', 'engine']].sample(n=20))"
   ]
  },
  {
   "cell_type": "code",
   "execution_count": 8,
   "metadata": {},
   "outputs": [
    {
     "name": "stdout",
     "output_type": "stream",
     "text": [
      "['Dual Motor - Standard' '2.0 Liter TFSI' '1.6L I4 16V GDI DOHC Turbo'\n",
      " '2.0 Liter DOHC Turbo' '3.5L V6 24V PDI DOHC Twin Turbo'\n",
      " '8.0L W16 64V GDI DOHC Twin Turbo' '6.3L V12 48V GDI DOHC'\n",
      " '3.6L V6 24V MPFI DOHC' '5.3 Liter' '5.0 Liter' 'Standard Range Battery'\n",
      " '1.5L I3 12V PDI DOHC Turbo' '111.2Ah / FR 70kW / RR 160kW (697V)'\n",
      " '3.0L I6 24V GDI DOHC Turbo' '3.5L V6 24V GDI SOHC' '5.5 Liter'\n",
      " '2.0 Liter Turbo' '3.8L V6 24V MPFI DOHC Twin Turbo'\n",
      " '4.0 Liter Twin Turbo' '3.0L V6 24V GDI DOHC Turbo' 'V8'\n",
      " '5.0L V8 32V GDI DOHC Supercharged' '2.0L I4 16V GDI DOHC Turbo'\n",
      " '5.0L V8 32V PDI DOHC' '1.3L I3 12V GDI DOHC Turbo'\n",
      " '6.0L W12 48V PDI DOHC Twin Turbo' '3.0 Liter' '120 AH'\n",
      " '5.7L V8 16V MPFI OHV' '3.5 Liter' '5.6 Liter' '1.5 Liter Turbo'\n",
      " '3.0 Liter Turbo' '2.0 Liter' '4.0 Liter']\n",
      "35\n",
      "engine\n",
      "Dual Motor - Standard                  92\n",
      "Standard Range Battery                 27\n",
      "111.2Ah / FR 70kW / RR 160kW (697V)     8\n",
      "1.6L I4 16V GDI DOHC Turbo              6\n",
      "8.0L W16 64V GDI DOHC Twin Turbo        5\n",
      "2.0 Liter TFSI                          4\n",
      "5.0 Liter                               3\n",
      "3.0 Liter                               2\n",
      "5.0L V8 32V PDI DOHC                    2\n",
      "2.0L I4 16V GDI DOHC Turbo              2\n",
      "4.0 Liter                               2\n",
      "3.6L V6 24V MPFI DOHC                   2\n",
      "2.0 Liter DOHC Turbo                    2\n",
      "1.5L I3 12V PDI DOHC Turbo              1\n",
      "1.3L I3 12V GDI DOHC Turbo              1\n",
      "2.0 Liter                               1\n",
      "3.0 Liter Turbo                         1\n",
      "1.5 Liter Turbo                         1\n",
      "5.6 Liter                               1\n",
      "3.5 Liter                               1\n",
      "5.7L V8 16V MPFI OHV                    1\n",
      "120 AH                                  1\n",
      "6.0L W12 48V PDI DOHC Twin Turbo        1\n",
      "3.5L V6 24V PDI DOHC Twin Turbo         1\n",
      "5.3 Liter                               1\n",
      "6.3L V12 48V GDI DOHC                   1\n",
      "5.0L V8 32V GDI DOHC Supercharged       1\n",
      "V8                                      1\n",
      "3.0L V6 24V GDI DOHC Turbo              1\n",
      "4.0 Liter Twin Turbo                    1\n",
      "2.0 Liter Turbo                         1\n",
      "5.5 Liter                               1\n",
      "3.5L V6 24V GDI SOHC                    1\n",
      "3.0L I6 24V GDI DOHC Turbo              1\n",
      "3.8L V6 24V MPFI DOHC Twin Turbo        1\n",
      "Name: count, dtype: int64\n"
     ]
    }
   ],
   "source": [
    "print(engine_exist_but_unchanged_cases['engine'].unique())\n",
    "print(len(engine_exist_but_unchanged_cases['engine'].unique()))\n",
    "print(engine_exist_but_unchanged_cases['engine'].value_counts())"
   ]
  },
  {
   "cell_type": "code",
   "execution_count": 9,
   "metadata": {},
   "outputs": [],
   "source": [
    "engine_exist_but_unchanged_cases[['fuel_type', 'fuel_type_extracted_1', 'fuel_type_updated_1', 'engine']].to_excel('data/temp/engine_exist_but_unchanged_cases.xlsx', index=False)"
   ]
  },
  {
   "cell_type": "markdown",
   "metadata": {},
   "source": [
    "2. 기존 영석님 전처리 마지막 버전 확인"
   ]
  },
  {
   "cell_type": "code",
   "execution_count": 10,
   "metadata": {},
   "outputs": [
    {
     "name": "stdout",
     "output_type": "stream",
     "text": [
      "fuel_type\n",
      "Gasoline         170229\n",
      "Hybrid             5449\n",
      "Electric           4988\n",
      "E85 Flex Fuel      4215\n",
      "Diesel             2872\n",
      "not supported       780\n",
      "Name: count, dtype: int64\n",
      "updated_fuel_type\n",
      "Gasoline         168511\n",
      "Hybrid             5400\n",
      "Electric           4988\n",
      "E85 Flex Fuel      4210\n",
      "Diesel             2867\n",
      "No                 2557\n",
      "Name: count, dtype: int64\n"
     ]
    }
   ],
   "source": [
    "train_df_2 = train_df.copy()\n",
    "test_df_2 = test_df.copy()\n",
    "\n",
    "\n",
    "# engine 정보를 기반으로 fuel_type을 라벨링하는 함수 (ULEV 처리 추가)\n",
    "def label_fuel_type_from_engine(df):\n",
    "    # 먼저 모든 엔진 값을 소문자로 변환하여 처리\n",
    "    df['engine_lower'] = df['engine'].str.lower()\n",
    "    \n",
    "    df['updated_fuel_type'] = 'No'\n",
    "    df['fuel_type_orig'] = df['fuel_type']\n",
    "\n",
    "    # Electric/Gas 관련 정보 라벨링 (명시적으로 Hybrid로 설정)\n",
    "    condition_electric_gas = df['engine_lower'].str.contains('electric/gas')\n",
    "    df.loc[condition_electric_gas, 'fuel_type'] = 'Hybrid'\n",
    "    df.loc[condition_electric_gas, 'updated_fuel_type'] = 'Hybrid'\n",
    "\n",
    "    # Gasoline 관련 정보 라벨링 (Electric 이전에 처리, 명확히 가솔린일 경우 Electric으로 분류되지 않게 함)\n",
    "    condition_gasoline = df['engine_lower'].str.contains('gasoline|turbo|v6|v8|i4|gdi|tfs|liter|ulev') & ~df['engine_lower'].str.contains('electric|ev|battery')\n",
    "    df.loc[condition_gasoline, 'fuel_type'] = 'Gasoline'\n",
    "    df.loc[condition_gasoline, 'updated_fuel_type'] = 'Gasoline'\n",
    "\n",
    "    # Hybrid 관련 정보 라벨링 (Gasoline 이후에 처리)\n",
    "    # TODO: 왜 hybrid 관련 정보 라벨링을 Gasoline 이후에 해야될까?\n",
    "    condition_hybrid = df['engine_lower'].str.contains('hybrid|mild electric|gasoline/electric') & (df['fuel_type'].isna() | (df['fuel_type'] != 'Gasoline'))\n",
    "    df.loc[condition_hybrid, 'fuel_type'] = 'Hybrid'\n",
    "    df.loc[condition_hybrid, 'updated_fuel_type'] = 'Hybrid'\n",
    "\n",
    "    # Electric 관련 정보 라벨링 (ULEV를 제외한 경우에만 Electric으로 설정)\n",
    "    condition_electric = df['engine_lower'].str.contains('electric|battery|dual motor|120 ah') & ~df['engine_lower'].str.contains('ulev') & (df['fuel_type'].isna() | (df['fuel_type'] != 'Gasoline') & (df['fuel_type'] != 'Hybrid'))\n",
    "    df.loc[condition_electric, 'fuel_type'] = 'Electric'\n",
    "    df.loc[condition_electric, 'updated_fuel_type'] = 'Electric'\n",
    "\n",
    "    # Flex Fuel 관련 정보 라벨링 (Electric/Hybrid/Gasoline이 아닌 경우)\n",
    "    condition_flex_fuel = df['engine_lower'].str.contains('flex fuel') & (df['fuel_type'].isna() | (df['fuel_type'] != 'Electric') & (df['fuel_type'] != 'Hybrid') & (df['fuel_type'] != 'Gasoline'))\n",
    "    df.loc[condition_flex_fuel, 'fuel_type'] = 'E85 Flex Fuel'\n",
    "    df.loc[condition_flex_fuel, 'updated_fuel_type'] = 'E85 Flex Fuel'\n",
    "\n",
    "    # Diesel 관련 정보 라벨링 (가장 낮은 우선순위)\n",
    "    condition_diesel = df['engine_lower'].str.contains('diesel|tdi') & (df['fuel_type'].isna() | (df['fuel_type'] != 'Electric') & (df['fuel_type'] != 'Hybrid') & (df['fuel_type'] != 'E85 Flex Fuel') & (df['fuel_type'] != 'Gasoline'))\n",
    "    df.loc[condition_diesel, 'fuel_type'] = 'Diesel'\n",
    "    df.loc[condition_diesel, 'updated_fuel_type'] = 'Diesel'\n",
    "\n",
    "    # 'engine_lower' 컬럼은 불필요하므로 제거\n",
    "    df.drop(columns=['engine_lower'], inplace=True)\n",
    "\n",
    "    return df\n",
    "\n",
    "# 데이터에 라벨링 함수 적용\n",
    "train_df_2 = label_fuel_type_from_engine(train_df_2)\n",
    "\n",
    "# 결과 출력\n",
    "train_df_2[['engine', 'fuel_type']].head()\n",
    "# fuel_type 고유값 카운트 확인\n",
    "print(train_df_2['fuel_type'].value_counts())\n",
    "print(train_df_2['updated_fuel_type'].value_counts())\n"
   ]
  },
  {
   "cell_type": "markdown",
   "metadata": {},
   "source": [
    "업데이트 된 케이스 확인"
   ]
  },
  {
   "cell_type": "code",
   "execution_count": 11,
   "metadata": {},
   "outputs": [
    {
     "name": "stdout",
     "output_type": "stream",
     "text": [
      "        fuel_type_orig fuel_type updated_fuel_type  \\\n",
      "115093          Hybrid  Gasoline          Gasoline   \n",
      "101649          Hybrid  Gasoline          Gasoline   \n",
      "182855   not supported  Electric          Electric   \n",
      "96877    not supported  Electric          Electric   \n",
      "171901          Hybrid  Gasoline          Gasoline   \n",
      "60465   Plug-In Hybrid    Hybrid            Hybrid   \n",
      "76044    E85 Flex Fuel  Gasoline          Gasoline   \n",
      "61441    not supported  Electric          Electric   \n",
      "67073    E85 Flex Fuel  Gasoline          Gasoline   \n",
      "101245  Plug-In Hybrid  Gasoline          Gasoline   \n",
      "57392   Plug-In Hybrid    Hybrid            Hybrid   \n",
      "96148           Hybrid  Gasoline          Gasoline   \n",
      "134373   not supported  Electric          Electric   \n",
      "81710    not supported  Electric          Electric   \n",
      "46282   Plug-In Hybrid    Hybrid            Hybrid   \n",
      "152854   not supported  Electric          Electric   \n",
      "6079     not supported  Electric          Electric   \n",
      "41804    not supported  Electric          Electric   \n",
      "153096          Hybrid  Gasoline          Gasoline   \n",
      "53257    not supported  Electric          Electric   \n",
      "\n",
      "                                                   engine  \n",
      "115093                                          3.0 Liter  \n",
      "101649                                     2.0 Liter TFSI  \n",
      "182855        670.0HP Electric Motor Electric Fuel System  \n",
      "96877                             Dual AC Electric Motors  \n",
      "171901                                     2.0 Liter TFSI  \n",
      "60465   369.0HP 1.5L 3 Cylinder Engine Plug-In Electri...  \n",
      "76044                 6.2L V8 16V MPFI SOHC Flexible Fuel  \n",
      "61441         670.0HP Electric Motor Electric Fuel System  \n",
      "67073                 6.2L V8 16V MPFI SOHC Flexible Fuel  \n",
      "101245                  1.6L I4 16V GDI DOHC Turbo Hybrid  \n",
      "57392   416.0HP 3.0L V6 Cylinder Engine Plug-In Electr...  \n",
      "96148                                      2.0 Liter TFSI  \n",
      "134373        455.0HP Electric Motor Electric Fuel System  \n",
      "81710                                            Electric  \n",
      "46282   455.0HP 2.0L 4 Cylinder Engine Plug-In Electri...  \n",
      "152854                Electric Motor Electric Fuel System  \n",
      "6079                                             Electric  \n",
      "41804         835.0HP Electric Motor Electric Fuel System  \n",
      "153096                                    3.0 Liter Turbo  \n",
      "53257         563.0HP Electric Motor Electric Fuel System  \n"
     ]
    }
   ],
   "source": [
    "updated_cases = train_df_2[(train_df_2['fuel_type_orig'] != train_df_2['fuel_type'])]\n",
    "print(updated_cases[['fuel_type_orig', 'fuel_type', 'updated_fuel_type', 'engine']].sample(n=20))"
   ]
  },
  {
   "cell_type": "code",
   "execution_count": 12,
   "metadata": {},
   "outputs": [],
   "source": [
    "updated_cases[['fuel_type_orig', 'fuel_type', 'updated_fuel_type', 'engine']].to_excel('data/temp/updated_cases.xlsx', index=False)"
   ]
  },
  {
   "cell_type": "markdown",
   "metadata": {},
   "source": [
    "결측치가 엔진 정보로 보간되지 않은 케이스 확인 (엔진 정보로부터 연료 추출 실패)"
   ]
  },
  {
   "cell_type": "code",
   "execution_count": 13,
   "metadata": {},
   "outputs": [
    {
     "name": "stdout",
     "output_type": "stream",
     "text": [
      "            fuel_type updated_fuel_type engine\n",
      "100648  not supported                No      –\n",
      "15739   not supported                No      –\n",
      "55604   not supported                No      –\n",
      "77832   not supported                No      –\n",
      "57038   not supported                No      –\n",
      "141363  not supported                No      –\n",
      "63590   not supported                No      –\n",
      "102463  not supported                No      –\n",
      "64083   not supported                No      –\n",
      "187399  not supported                No      –\n",
      "113867  not supported                No      –\n",
      "57585   not supported                No      –\n",
      "184845  not supported                No      –\n",
      "176096  not supported                No      –\n",
      "151965  not supported                No      –\n",
      "32758   not supported                No      –\n",
      "133985  not supported                No      –\n",
      "36726   not supported                No      –\n",
      "78649   not supported                No      –\n",
      "58651   not supported                No      –\n"
     ]
    }
   ],
   "source": [
    "# Find not updated 'not supported' cases\n",
    "not_supported_unchanged_cases = train_df_2[(train_df_2['fuel_type'] == 'not supported') & (train_df_2['updated_fuel_type'] == 'No')]\n",
    "print(not_supported_unchanged_cases[['fuel_type', 'updated_fuel_type', 'engine']].sample(n=20))"
   ]
  },
  {
   "cell_type": "markdown",
   "metadata": {},
   "source": [
    "엔진 정보가 있음에도 불구하고 연료 추출에 실패한 경우 확인"
   ]
  },
  {
   "cell_type": "code",
   "execution_count": 14,
   "metadata": {},
   "outputs": [
    {
     "name": "stdout",
     "output_type": "stream",
     "text": [
      "(8, 15)\n",
      "            fuel_type updated_fuel_type                               engine\n",
      "30172   not supported                No  111.2Ah / FR 70kW / RR 160kW (697V)\n",
      "42322   not supported                No  111.2Ah / FR 70kW / RR 160kW (697V)\n",
      "85526   not supported                No  111.2Ah / FR 70kW / RR 160kW (697V)\n",
      "100226  not supported                No  111.2Ah / FR 70kW / RR 160kW (697V)\n",
      "101611  not supported                No  111.2Ah / FR 70kW / RR 160kW (697V)\n",
      "124698  not supported                No  111.2Ah / FR 70kW / RR 160kW (697V)\n",
      "131824  not supported                No  111.2Ah / FR 70kW / RR 160kW (697V)\n",
      "176787  not supported                No  111.2Ah / FR 70kW / RR 160kW (697V)\n"
     ]
    }
   ],
   "source": [
    "# Find not updated but engine info exist cases\n",
    "engine_exist_but_unchanged_cases = not_supported_unchanged_cases[not_supported_unchanged_cases['engine'] != '–']\n",
    "print(engine_exist_but_unchanged_cases.shape)\n",
    "print(engine_exist_but_unchanged_cases[['fuel_type', 'updated_fuel_type', 'engine']])"
   ]
  },
  {
   "cell_type": "markdown",
   "metadata": {},
   "source": [
    "Mild Electric Cases 유효성 확인"
   ]
  },
  {
   "cell_type": "code",
   "execution_count": 15,
   "metadata": {},
   "outputs": [
    {
     "name": "stdout",
     "output_type": "stream",
     "text": [
      "       fuel_type_orig fuel_type updated_fuel_type  \\\n",
      "97255        Gasoline  Gasoline                No   \n",
      "106815         Hybrid    Hybrid            Hybrid   \n",
      "113993         Hybrid    Hybrid            Hybrid   \n",
      "81768          Hybrid    Hybrid            Hybrid   \n",
      "30192          Hybrid    Hybrid            Hybrid   \n",
      "166782         Hybrid    Hybrid            Hybrid   \n",
      "175626         Hybrid    Hybrid            Hybrid   \n",
      "64593          Hybrid    Hybrid            Hybrid   \n",
      "114744         Hybrid    Hybrid            Hybrid   \n",
      "28606          Hybrid    Hybrid            Hybrid   \n",
      "66395          Hybrid    Hybrid            Hybrid   \n",
      "39026          Hybrid    Hybrid            Hybrid   \n",
      "159817         Hybrid    Hybrid            Hybrid   \n",
      "101518         Hybrid    Hybrid            Hybrid   \n",
      "27270          Hybrid    Hybrid            Hybrid   \n",
      "9131           Hybrid    Hybrid            Hybrid   \n",
      "1796           Hybrid    Hybrid            Hybrid   \n",
      "158508         Hybrid    Hybrid            Hybrid   \n",
      "39560          Hybrid    Hybrid            Hybrid   \n",
      "12332          Hybrid    Hybrid            Hybrid   \n",
      "\n",
      "                                                   engine  \n",
      "97255   429.0HP 3.0L Straight 6 Cylinder Engine Gasoli...  \n",
      "106815  335.0HP 3.0L V6 Cylinder Engine Gasoline/Mild ...  \n",
      "113993  335.0HP 3.0L V6 Cylinder Engine Gasoline/Mild ...  \n",
      "81768   335.0HP 3.0L V6 Cylinder Engine Gasoline/Mild ...  \n",
      "30192   335.0HP 3.0L V6 Cylinder Engine Gasoline/Mild ...  \n",
      "166782  395.0HP 3.0L Straight 6 Cylinder Engine Gasoli...  \n",
      "175626  296.0HP 2.0L 4 Cylinder Engine Gasoline/Mild E...  \n",
      "64593   429.0HP 3.0L Straight 6 Cylinder Engine Gasoli...  \n",
      "114744  395.0HP 3.0L Straight 6 Cylinder Engine Gasoli...  \n",
      "28606   395.0HP 5.7L 8 Cylinder Engine Gasoline/Mild E...  \n",
      "66395   395.0HP 5.7L 8 Cylinder Engine Gasoline/Mild E...  \n",
      "39026   395.0HP 5.7L 8 Cylinder Engine Gasoline/Mild E...  \n",
      "159817  591.0HP 4.0L 8 Cylinder Engine Gasoline/Mild E...  \n",
      "101518  591.0HP 4.0L 8 Cylinder Engine Gasoline/Mild E...  \n",
      "27270   335.0HP 3.0L V6 Cylinder Engine Gasoline/Mild ...  \n",
      "9131    382.0HP 3.0L Straight 6 Cylinder Engine Gasoli...  \n",
      "1796    335.0HP 3.0L V6 Cylinder Engine Gasoline/Mild ...  \n",
      "158508  603.0HP 4.0L 8 Cylinder Engine Gasoline/Mild E...  \n",
      "39560   261.0HP 2.0L 4 Cylinder Engine Gasoline/Mild E...  \n",
      "12332   335.0HP 3.0L V6 Cylinder Engine Gasoline/Mild ...  \n"
     ]
    }
   ],
   "source": [
    "mild_electric_cases = train_df_2[train_df_2['engine'].str.lower().str.contains('mild electric')]\n",
    "print(mild_electric_cases[['fuel_type_orig', 'fuel_type', 'updated_fuel_type', 'engine']].sample(n=20))\n",
    "mild_electric_cases[['fuel_type_orig', 'fuel_type', 'updated_fuel_type', 'engine']].to_excel('data/temp/mild_electric_cases.xlsx', index=False)"
   ]
  },
  {
   "cell_type": "code",
   "execution_count": 16,
   "metadata": {},
   "outputs": [
    {
     "name": "stdout",
     "output_type": "stream",
     "text": [
      "Empty DataFrame\n",
      "Columns: [fuel_type_orig, fuel_type, updated_fuel_type, engine]\n",
      "Index: []\n"
     ]
    }
   ],
   "source": [
    "mild_electric_not_hybrid_cases = mild_electric_cases[~mild_electric_cases['engine'].str.lower().str.contains('hybrid')]\n",
    "print(mild_electric_not_hybrid_cases[['fuel_type_orig', 'fuel_type', 'updated_fuel_type', 'engine']].head())\n",
    "# Mild Electric Cases 는 고려하지 않아도 된다"
   ]
  },
  {
   "cell_type": "markdown",
   "metadata": {},
   "source": [
    "Plug-in Hybrid cases 확인"
   ]
  },
  {
   "cell_type": "code",
   "execution_count": 17,
   "metadata": {},
   "outputs": [
    {
     "name": "stdout",
     "output_type": "stream",
     "text": [
      "        fuel_type_orig fuel_type updated_fuel_type  \\\n",
      "170866  Plug-In Hybrid    Hybrid            Hybrid   \n",
      "92687   Plug-In Hybrid    Hybrid            Hybrid   \n",
      "183142  Plug-In Hybrid    Hybrid            Hybrid   \n",
      "129887  Plug-In Hybrid    Hybrid            Hybrid   \n",
      "61205   Plug-In Hybrid    Hybrid            Hybrid   \n",
      "30674   Plug-In Hybrid    Hybrid            Hybrid   \n",
      "21485   Plug-In Hybrid    Hybrid            Hybrid   \n",
      "110253  Plug-In Hybrid    Hybrid            Hybrid   \n",
      "23973   Plug-In Hybrid    Hybrid            Hybrid   \n",
      "105987  Plug-In Hybrid    Hybrid            Hybrid   \n",
      "135323  Plug-In Hybrid    Hybrid            Hybrid   \n",
      "130192  Plug-In Hybrid    Hybrid            Hybrid   \n",
      "63659   Plug-In Hybrid    Hybrid            Hybrid   \n",
      "64809           Hybrid    Hybrid            Hybrid   \n",
      "49655   Plug-In Hybrid    Hybrid            Hybrid   \n",
      "92435   Plug-In Hybrid    Hybrid            Hybrid   \n",
      "177193  Plug-In Hybrid    Hybrid            Hybrid   \n",
      "166409  Plug-In Hybrid    Hybrid            Hybrid   \n",
      "7133    Plug-In Hybrid    Hybrid            Hybrid   \n",
      "182399  Plug-In Hybrid    Hybrid            Hybrid   \n",
      "\n",
      "                                                   engine  \n",
      "170866  389.0HP 3.0L Straight 6 Cylinder Engine Plug-I...  \n",
      "92687   247.0HP 2.0L 4 Cylinder Engine Plug-In Electri...  \n",
      "183142  455.0HP 2.0L 4 Cylinder Engine Plug-In Electri...  \n",
      "129887  247.0HP 2.0L 4 Cylinder Engine Plug-In Electri...  \n",
      "61205   302.0HP 2.5L 4 Cylinder Engine Plug-In Electri...  \n",
      "30674   455.0HP 2.0L 4 Cylinder Engine Plug-In Electri...  \n",
      "21485   180.0HP 1.6L 4 Cylinder Engine Plug-In Electri...  \n",
      "110253  188.0HP 2.0L 4 Cylinder Engine Plug-In Electri...  \n",
      "23973   389.0HP 3.0L Straight 6 Cylinder Engine Plug-I...  \n",
      "105987  247.0HP 2.0L 4 Cylinder Engine Plug-In Electri...  \n",
      "135323  416.0HP 3.0L V6 Cylinder Engine Plug-In Electr...  \n",
      "130192  221.0HP 2.5L 4 Cylinder Engine Plug-In Electri...  \n",
      "63659   247.0HP 2.0L 4 Cylinder Engine Plug-In Electri...  \n",
      "64809   322.0HP 2.0L 4 Cylinder Engine Plug-In Electri...  \n",
      "49655   247.0HP 2.0L 4 Cylinder Engine Plug-In Electri...  \n",
      "92435   180.0HP 1.6L 4 Cylinder Engine Plug-In Electri...  \n",
      "177193  389.0HP 3.0L Straight 6 Cylinder Engine Plug-I...  \n",
      "166409  416.0HP 3.0L V6 Cylinder Engine Plug-In Electr...  \n",
      "7133    455.0HP 2.0L 4 Cylinder Engine Plug-In Electri...  \n",
      "182399  247.0HP 2.0L 4 Cylinder Engine Plug-In Electri...  \n"
     ]
    }
   ],
   "source": [
    "plug_in_cases = train_df_2[train_df_2['engine'].str.lower().str.contains('plug-in')]\n",
    "print(plug_in_cases[['fuel_type_orig', 'fuel_type', 'updated_fuel_type', 'engine']].sample(n=20))\n",
    "plug_in_cases[['fuel_type_orig', 'fuel_type', 'updated_fuel_type', 'engine']].to_excel('data/temp/plug_in_cases.xlsx', index=False)"
   ]
  },
  {
   "cell_type": "code",
   "execution_count": 18,
   "metadata": {},
   "outputs": [
    {
     "name": "stdout",
     "output_type": "stream",
     "text": [
      "Empty DataFrame\n",
      "Columns: [fuel_type_orig, fuel_type, updated_fuel_type, engine]\n",
      "Index: []\n"
     ]
    }
   ],
   "source": [
    "plug_in_without_name_mention = train_df_2[(train_df_2['fuel_type'] == 'Plug-In Hybrid') & ~(train_df_2['engine'].str.lower().str.contains('plug-in'))]\n",
    "print(plug_in_without_name_mention[['fuel_type_orig', 'fuel_type', 'updated_fuel_type', 'engine']].head())\n",
    "plug_in_without_name_mention[['fuel_type_orig', 'fuel_type', 'updated_fuel_type', 'engine']].to_excel('data/temp/plug_in__without_mention_cases.xlsx', index=False)"
   ]
  },
  {
   "cell_type": "markdown",
   "metadata": {},
   "source": [
    "- Plug-In Hybrid 들은 모두 Engine 에 Plug-in 이 들어가야 한다"
   ]
  },
  {
   "cell_type": "markdown",
   "metadata": {},
   "source": [
    "Motor Cases 다 전기찬지 확인"
   ]
  },
  {
   "cell_type": "code",
   "execution_count": 19,
   "metadata": {},
   "outputs": [
    {
     "name": "stdout",
     "output_type": "stream",
     "text": [
      "       fuel_type_orig fuel_type updated_fuel_type  \\\n",
      "80736   not supported  Electric          Electric   \n",
      "87552   not supported  Electric          Electric   \n",
      "74788   not supported  Electric          Electric   \n",
      "18653   not supported  Electric          Electric   \n",
      "38706   not supported  Electric          Electric   \n",
      "129955  not supported  Electric          Electric   \n",
      "161188       Gasoline  Gasoline                No   \n",
      "148663       Gasoline  Gasoline                No   \n",
      "125794  not supported  Electric          Electric   \n",
      "178002  not supported  Electric          Electric   \n",
      "102090  not supported  Electric          Electric   \n",
      "15292        Gasoline  Gasoline                No   \n",
      "76320   not supported  Electric          Electric   \n",
      "7955    not supported  Electric          Electric   \n",
      "16538   not supported  Electric          Electric   \n",
      "77380   not supported  Electric          Electric   \n",
      "126665       Gasoline  Gasoline                No   \n",
      "11869   not supported  Electric          Electric   \n",
      "112681       Gasoline  Gasoline                No   \n",
      "127253  not supported  Electric          Electric   \n",
      "\n",
      "                                                   engine  \n",
      "80736         425.0HP Electric Motor Electric Fuel System  \n",
      "87552         425.0HP Electric Motor Electric Fuel System  \n",
      "74788         416.0HP Electric Motor Electric Fuel System  \n",
      "18653         835.0HP Electric Motor Electric Fuel System  \n",
      "38706         835.0HP Electric Motor Electric Fuel System  \n",
      "129955        375.0HP Electric Motor Electric Fuel System  \n",
      "161188        455.0HP Electric Motor Electric Fuel System  \n",
      "148663        455.0HP Electric Motor Electric Fuel System  \n",
      "125794        271.0HP Electric Motor Electric Fuel System  \n",
      "178002        518.0HP Electric Motor Electric Fuel System  \n",
      "102090        425.0HP Electric Motor Electric Fuel System  \n",
      "15292         518.0HP Electric Motor Electric Fuel System  \n",
      "76320   170.0HP 0.65L Electric Motor Electric Fuel System  \n",
      "7955          295.0HP Electric Motor Electric Fuel System  \n",
      "16538         320.0HP Electric Motor Electric Fuel System  \n",
      "77380         271.0HP Electric Motor Electric Fuel System  \n",
      "126665        518.0HP Electric Motor Electric Fuel System  \n",
      "11869         518.0HP Electric Motor Electric Fuel System  \n",
      "112681        425.0HP Electric Motor Electric Fuel System  \n",
      "127253        778.0HP Electric Motor Electric Fuel System  \n"
     ]
    }
   ],
   "source": [
    "motor_cases = train_df_2[train_df_2['engine'].str.lower().str.contains('motor')]\n",
    "print(motor_cases[['fuel_type_orig', 'fuel_type', 'updated_fuel_type', 'engine']].sample(n=20))\n",
    "motor_cases[['fuel_type_orig', 'fuel_type', 'updated_fuel_type', 'engine']].to_excel('data/temp/motor_cases.xlsx', index=False)\n",
    "# Motor 는 다 electric 이 맞는듯"
   ]
  },
  {
   "cell_type": "markdown",
   "metadata": {},
   "source": [
    "Ah case 중에서 암페어가 아니라 그냥 엔진 이름에 들어간 케이스 확인"
   ]
  },
  {
   "cell_type": "code",
   "execution_count": 20,
   "metadata": {},
   "outputs": [
    {
     "name": "stdout",
     "output_type": "stream",
     "text": [
      "      fuel_type_orig      fuel_type updated_fuel_type  \\\n",
      "12257       Gasoline       Gasoline                No   \n",
      "30172  not supported  not supported                No   \n",
      "42322  not supported  not supported                No   \n",
      "85526  not supported  not supported                No   \n",
      "98197  not supported       Electric          Electric   \n",
      "\n",
      "                                    engine  \n",
      "12257                               120 AH  \n",
      "30172  111.2Ah / FR 70kW / RR 160kW (697V)  \n",
      "42322  111.2Ah / FR 70kW / RR 160kW (697V)  \n",
      "85526  111.2Ah / FR 70kW / RR 160kW (697V)  \n",
      "98197                               120 AH  \n"
     ]
    }
   ],
   "source": [
    "ah_cases = train_df_2[train_df_2['engine'].str.lower().str.contains('ah')]\n",
    "print(ah_cases[['fuel_type_orig', 'fuel_type', 'updated_fuel_type', 'engine']].head())\n",
    "ah_cases[['fuel_type_orig', 'fuel_type', 'updated_fuel_type', 'engine']].to_excel('data/temp/ah_cases.xlsx', index=False)"
   ]
  },
  {
   "cell_type": "markdown",
   "metadata": {},
   "source": [
    "Ev Cases 확인"
   ]
  },
  {
   "cell_type": "code",
   "execution_count": 21,
   "metadata": {},
   "outputs": [
    {
     "name": "stdout",
     "output_type": "stream",
     "text": [
      "      fuel_type_orig fuel_type updated_fuel_type             engine\n",
      "5728        Gasoline  Gasoline                No  3.0 Liter SC ULEV\n",
      "18782       Gasoline  Gasoline                No  3.0 Liter SC ULEV\n",
      "35262         Hybrid    Hybrid                No  3.0 Liter SC ULEV\n",
      "36276       Gasoline  Gasoline                No  3.0 Liter SC ULEV\n",
      "39844         Hybrid    Hybrid                No  3.0 Liter SC ULEV\n"
     ]
    }
   ],
   "source": [
    "ev_cases = train_df_2[train_df_2['engine'].str.lower().str.contains('ev')]\n",
    "print(ev_cases[['fuel_type_orig', 'fuel_type', 'updated_fuel_type', 'engine']].head())\n",
    "ev_cases[['fuel_type_orig', 'fuel_type', 'updated_fuel_type', 'engine']].to_excel('data/temp/ev_cases.xlsx', index=False)"
   ]
  },
  {
   "cell_type": "markdown",
   "metadata": {},
   "source": [
    "- 따로 엔진명에 ev가 들어간 전기차 케이스는 없다. Liter 케이스나 ULEV 케이스로 다 처리하면 될것으로 보인다"
   ]
  },
  {
   "cell_type": "markdown",
   "metadata": {},
   "source": [
    "Liter Cases 확인"
   ]
  },
  {
   "cell_type": "code",
   "execution_count": 22,
   "metadata": {},
   "outputs": [
    {
     "name": "stdout",
     "output_type": "stream",
     "text": [
      "    fuel_type_orig fuel_type updated_fuel_type                engine\n",
      "122       Gasoline  Gasoline          Gasoline  2.0 Liter DOHC Turbo\n",
      "164       Gasoline  Gasoline          Gasoline  2.0 Liter DOHC Turbo\n",
      "212       Gasoline  Gasoline          Gasoline             2.0 Liter\n",
      "237       Gasoline  Gasoline          Gasoline       2.0 Liter Turbo\n",
      "256       Gasoline  Gasoline          Gasoline       3.0 Liter Turbo\n"
     ]
    }
   ],
   "source": [
    "liter_cases = train_df_2[train_df_2['engine'].str.lower().str.contains('liter')]\n",
    "print(liter_cases[['fuel_type_orig', 'fuel_type', 'updated_fuel_type', 'engine']].head())\n",
    "liter_cases[['fuel_type_orig', 'fuel_type', 'updated_fuel_type', 'engine']].to_excel('data/temp/liter_cases.xlsx', index=False)"
   ]
  },
  {
   "cell_type": "code",
   "execution_count": 23,
   "metadata": {},
   "outputs": [
    {
     "name": "stdout",
     "output_type": "stream",
     "text": [
      "      fuel_type_orig fuel_type updated_fuel_type     engine\n",
      "2127          Diesel  Gasoline          Gasoline  3.0 Liter\n",
      "6299          Diesel  Gasoline          Gasoline  3.0 Liter\n",
      "11157         Diesel  Gasoline          Gasoline  2.0 Liter\n",
      "12264         Diesel  Gasoline          Gasoline  3.0 Liter\n",
      "22130         Diesel  Gasoline          Gasoline  3.0 Liter\n"
     ]
    }
   ],
   "source": [
    "liter_diesel_cases = liter_cases[liter_cases['fuel_type_orig'].str.lower().str.contains('diesel')]\n",
    "print(liter_diesel_cases[['fuel_type_orig', 'fuel_type', 'updated_fuel_type', 'engine']].head())\n",
    "liter_diesel_cases[['fuel_type_orig', 'fuel_type', 'updated_fuel_type', 'engine']].to_excel('data/temp/liter_diesel_cases.xlsx', index=False)"
   ]
  },
  {
   "cell_type": "markdown",
   "metadata": {},
   "source": [
    "- Liter 는 Gasoline, hybrid, plug-in hybrid, not supported 중 하나. 대부분 gasoline 인것으로 보아 합성되는 과정에서 생긴 에러일수도..? 다 Gasoline 으로 처리하거나 처리하지 않고 두는게 좋을듯"
   ]
  },
  {
   "cell_type": "markdown",
   "metadata": {},
   "source": [
    "tdi cases 확인"
   ]
  },
  {
   "cell_type": "code",
   "execution_count": 24,
   "metadata": {},
   "outputs": [
    {
     "name": "stdout",
     "output_type": "stream",
     "text": [
      "      fuel_type_orig fuel_type updated_fuel_type          engine\n",
      "2798        Gasoline  Gasoline          Gasoline  3.0 Liter GTDI\n",
      "24593         Hybrid  Gasoline          Gasoline  3.0 Liter GTDI\n",
      "27428       Gasoline  Gasoline          Gasoline  3.5 Liter GTDI\n",
      "28129       Gasoline  Gasoline          Gasoline  3.5 Liter GTDI\n",
      "30264       Gasoline  Gasoline          Gasoline  3.5 Liter GTDI\n"
     ]
    }
   ],
   "source": [
    "tdi_cases = train_df_2[train_df_2['engine'].str.lower().str.contains('tdi')]\n",
    "print(tdi_cases[['fuel_type_orig', 'fuel_type', 'updated_fuel_type', 'engine']].head())\n",
    "tdi_cases[['fuel_type_orig', 'fuel_type', 'updated_fuel_type', 'engine']].to_excel('data/temp/tdi_cases.xlsx', index=False)"
   ]
  },
  {
   "cell_type": "markdown",
   "metadata": {},
   "source": [
    "- 다 Gasoline. 디젤로 바꾸지 않는게 좋을듯"
   ]
  },
  {
   "cell_type": "markdown",
   "metadata": {},
   "source": [
    "개선사항 적용"
   ]
  },
  {
   "cell_type": "code",
   "execution_count": 25,
   "metadata": {},
   "outputs": [
    {
     "name": "stdout",
     "output_type": "stream",
     "text": [
      "fuel_type\n",
      "Gasoline          166440\n",
      "Electric            5639\n",
      "Hybrid              5546\n",
      "E85 Flex Fuel       5476\n",
      "Diesel              4123\n",
      "not supported        772\n",
      "Plug-In Hybrid       537\n",
      "Name: count, dtype: int64\n"
     ]
    }
   ],
   "source": [
    "train_df_3 = train_df.copy()\n",
    "test_df_3 = test_df.copy()\n",
    "\n",
    "\n",
    "def extract_full_type_directly(df):\n",
    "    extracted_fuel_types = []\n",
    "    \n",
    "    fuel_type_classes = ['Gasoline', 'Diesel', 'Flex Fuel', 'Electric', 'Hybrid', 'Plug-In']\n",
    "    fuel_type_classes_lower = [fuel_type.lower() for fuel_type in fuel_type_classes]\n",
    "\n",
    "    # 정확하게 매칭되는게 하나 있을때만 분류\n",
    "    for engine_name in df['engine_lower']:\n",
    "        engine_name = engine_name.lower() if isinstance(engine_name, str) else ''\n",
    "\n",
    "        fuel_type_class_matching_count = sum(fuel_type in engine_name for fuel_type in fuel_type_classes_lower)\n",
    "        \n",
    "        if fuel_type_class_matching_count == 1:\n",
    "            if 'gasoline' in engine_name:\n",
    "                extracted_fuel_types.append('Gasoline')\n",
    "            elif 'diesel' in engine_name:\n",
    "                extracted_fuel_types.append('Diesel')\n",
    "            elif 'flex fuel' in engine_name:\n",
    "                extracted_fuel_types.append('E85 Flex Fuel')\n",
    "            elif 'electric' in engine_name:\n",
    "                extracted_fuel_types.append('Electric')\n",
    "            elif 'hybrid' in engine_name:\n",
    "                extracted_fuel_types.append('Hybrid')\n",
    "            else:\n",
    "                extracted_fuel_types.append('not supported')\n",
    "        else:\n",
    "            if 'plug-in' in engine_name:\n",
    "                extracted_fuel_types.append('Plug-In Hybrid')\n",
    "            else:\n",
    "                extracted_fuel_types.append('not supported')\n",
    "\n",
    "    df['direct_extract_fuel_type'] = extracted_fuel_types\n",
    "    return df\n",
    "\n",
    "# Todo: 2개 이상의 fuel_type 이 매칭되면 hybrid 처리..?\n",
    "\n",
    "def extract_complex_fuel_type_pre(df):    \n",
    "    # Gasoline\n",
    "    # Removed Patterns: turbo|v6|i4|tfs (uncertain)\n",
    "    condition_gasoline_1 = df['engine_lower'].str.contains('liter|ulev|v8|gdi|mpfi') # v8 is checked by gpt\n",
    "    condition_gasoline_2 = df['engine_lower'].str.contains('dohc') & df['engine_lower'].str.contains('turbo') # DOHC Turbo is common gasoline cases (by gpt)\n",
    "    df.loc[condition_gasoline_1 | condition_gasoline_2, 'complex_extract_fuel_type'] = 'Gasoline'\n",
    "    \n",
    "    # E85 Flex Fuel\n",
    "    condition_flex_fuel = df['engine_lower'].str.contains('flex') & df['engine_lower'].str.contains('fuel')\n",
    "    df.loc[condition_flex_fuel, 'complex_extract_fuel_type'] = 'E85 Flex Fuel'\n",
    "    \n",
    "    # Hybrid\n",
    "    # Removed Patterns: mild electric (all cases have hybrid in engine name)\n",
    "    raw_fuels = ['Gasoline', 'Diesel', 'Electric', 'Gas']\n",
    "    raw_fuels_lower = [fuel.lower() for fuel in raw_fuels]\n",
    "    def count_raw_fuels(engine_desc):\n",
    "        return sum(fuel in engine_desc for fuel in raw_fuels_lower)\n",
    "    \n",
    "    # Apply the function row by row and store the count in a new column 'fuel_count'\n",
    "    # df['fuel_count'] = df['engine_lower'].apply(count_raw_fuels)\n",
    "\n",
    "    \n",
    "    condition_hybrid = df['engine_lower'].apply(lambda x: (count_raw_fuels(x) > 1) and 'hybrid' in x and 'plug-in' not in x) # 2개 이상의 raw fuel 이 포함되있으며 plug-in 이 없으면 hybrid\n",
    "    df.loc[condition_hybrid, 'complex_extract_fuel_type'] = 'Hybrid'\n",
    "    \n",
    "    # Disel\n",
    "    # Removed Patterns: tdi (most of case was gasoline)\n",
    "    # Skipped since there was no special unique pattern\n",
    "    \n",
    "    # Plug-In Hybrid\n",
    "    # Skipped since there was no special unique pattern\n",
    "    \n",
    "    # Electric\n",
    "    condition_electric = df['engine_lower'].str.contains('battery|motor|ah')\n",
    "    df.loc[condition_electric, 'complex_extract_fuel_type'] = 'Electric'\n",
    "\n",
    "    return df\n",
    "\n",
    "\n",
    "# engine 정보를 기반으로 fuel_type을 라벨링하는 함수 (ULEV 처리 추가)\n",
    "def label_fuel_type_from_engine(df):\n",
    "    # 먼저 모든 엔진 값을 소문자로 변환하여 처리\n",
    "    df['engine_lower'] = df['engine'].str.lower()\n",
    "    df['fuel_type_orig'] = df['fuel_type']\n",
    "\n",
    "    df['direct_extract_fuel_type'] = 'not supported'  # 엔진명에서 연료 이름으로 직접 추출한 연료 타입\n",
    "    df = extract_full_type_directly(df)\n",
    "    \n",
    "    df['complex_extract_fuel_type'] = 'not supported'  # 복합적인 방법으로 추출한 연료 타입\n",
    "    df = extract_complex_fuel_type_pre(df)\n",
    "\n",
    "    # fuel_type 업데이트\n",
    "    df['fuel_type'] = df['fuel_type'].where(df['direct_extract_fuel_type'] == 'not supported', df['direct_extract_fuel_type'])\n",
    "    df['fuel_type'] = df['fuel_type'].where((df['direct_extract_fuel_type'] != 'not supported') | (df['complex_extract_fuel_type'] == 'not supported'), df['complex_extract_fuel_type'])\n",
    "\n",
    "    # 'engine_lower' 컬럼은 불필요하므로 제거\n",
    "    # df.drop(columns=['engine_lower'], inplace=True)\n",
    "    # df.drop(conlumns=['fuel_type_orig', 'direct_extract_fuel_type', 'complex_extract_fuel_type'], inplace=True)\n",
    "\n",
    "    return df\n",
    "\n",
    "# 데이터에 라벨링 함수 적용\n",
    "train_df_3 = label_fuel_type_from_engine(train_df_3)\n",
    "\n",
    "# 결과 출력\n",
    "train_df_3[['engine', 'fuel_type']].head()\n",
    "# fuel_type 고유값 카운트 확인\n",
    "print(train_df_3['fuel_type'].value_counts())\n"
   ]
  },
  {
   "cell_type": "markdown",
   "metadata": {},
   "source": [
    "결측치 중 엔진 정보가 있는 항목중 보간되지 않은 항목들"
   ]
  },
  {
   "cell_type": "code",
   "execution_count": 26,
   "metadata": {},
   "outputs": [
    {
     "name": "stdout",
     "output_type": "stream",
     "text": [
      "Empty DataFrame\n",
      "Columns: [fuel_type, fuel_type_orig, direct_extract_fuel_type, complex_extract_fuel_type, engine]\n",
      "Index: []\n"
     ]
    }
   ],
   "source": [
    "not_supported_cases = train_df_3[(train_df_3['fuel_type'] == 'not supported') & (train_df_3['engine'] != '–')]\n",
    "print(not_supported_cases[['fuel_type', 'fuel_type_orig', 'direct_extract_fuel_type', 'complex_extract_fuel_type', 'engine']].head())\n",
    "# not_supported_cases[['fuel_type', 'fuel_type_orig', 'direct_extract_fuel_type', 'complex_extract_fuel_type', 'engine']].to_excel('data/temp/improved_not_supported_cases.xlsx', index=False)\n",
    "not_supported_cases[['fuel_type', 'fuel_type_orig', 'direct_extract_fuel_type', 'complex_extract_fuel_type', 'engine']].to_excel('data/temp/improved_not_supported_cases.xlsx')"
   ]
  },
  {
   "cell_type": "markdown",
   "metadata": {},
   "source": [
    "업데이트 된 항목들"
   ]
  },
  {
   "cell_type": "code",
   "execution_count": 27,
   "metadata": {},
   "outputs": [
    {
     "name": "stdout",
     "output_type": "stream",
     "text": [
      "             fuel_type  fuel_type_orig direct_extract_fuel_type  \\\n",
      "68465           Diesel          Diesel                   Diesel   \n",
      "150479        Electric   not supported                 Electric   \n",
      "174916        Electric   not supported                 Electric   \n",
      "128633        Electric   not supported                 Electric   \n",
      "109763          Diesel          Diesel                   Diesel   \n",
      "70280         Gasoline          Hybrid            not supported   \n",
      "164311          Hybrid          Hybrid                   Hybrid   \n",
      "165914        Electric   not supported                 Electric   \n",
      "88231           Diesel          Diesel                   Diesel   \n",
      "11589         Electric   not supported                 Electric   \n",
      "147381  Plug-In Hybrid  Plug-In Hybrid           Plug-In Hybrid   \n",
      "64993    E85 Flex Fuel   E85 Flex Fuel            not supported   \n",
      "180121          Hybrid          Hybrid                   Hybrid   \n",
      "87828         Electric   not supported                 Electric   \n",
      "3506    Plug-In Hybrid  Plug-In Hybrid           Plug-In Hybrid   \n",
      "131145        Electric   not supported                 Electric   \n",
      "157092        Electric   not supported                 Electric   \n",
      "178342        Electric   not supported                 Electric   \n",
      "113127   E85 Flex Fuel   E85 Flex Fuel            E85 Flex Fuel   \n",
      "83165   Plug-In Hybrid  Plug-In Hybrid           Plug-In Hybrid   \n",
      "\n",
      "       complex_extract_fuel_type  \\\n",
      "68465                   Gasoline   \n",
      "150479                  Electric   \n",
      "174916                  Electric   \n",
      "128633                  Electric   \n",
      "109763                  Gasoline   \n",
      "70280                   Gasoline   \n",
      "164311                  Gasoline   \n",
      "165914                  Electric   \n",
      "88231              not supported   \n",
      "11589                   Electric   \n",
      "147381             not supported   \n",
      "64993              E85 Flex Fuel   \n",
      "180121             not supported   \n",
      "87828                   Electric   \n",
      "3506               not supported   \n",
      "131145                  Electric   \n",
      "157092                  Electric   \n",
      "178342                  Electric   \n",
      "113127             E85 Flex Fuel   \n",
      "83165              not supported   \n",
      "\n",
      "                                                   engine  \n",
      "68465                    6.6L V8 32V DDI OHV Turbo Diesel  \n",
      "150479        266.0HP Electric Motor Electric Fuel System  \n",
      "174916        425.0HP Electric Motor Electric Fuel System  \n",
      "128633        835.0HP Electric Motor Electric Fuel System  \n",
      "109763                   6.6L V8 32V DDI OHV Turbo Diesel  \n",
      "70280                                      2.0 Liter TFSI  \n",
      "164311                  1.6L I4 16V GDI DOHC Turbo Hybrid  \n",
      "165914        835.0HP Electric Motor Electric Fuel System  \n",
      "88231         240.0HP 3.0L V6 Cylinder Engine Diesel Fuel  \n",
      "11589         563.0HP Electric Motor Electric Fuel System  \n",
      "147381  188.0HP 2.0L 4 Cylinder Engine Plug-In Electri...  \n",
      "64993                 6.2L V8 16V MPFI SOHC Flexible Fuel  \n",
      "180121                        3.5L V6 24V PDI DOHC Hybrid  \n",
      "87828         835.0HP Electric Motor Electric Fuel System  \n",
      "3506    134.0HP 1.8L 4 Cylinder Engine Plug-In Electri...  \n",
      "131145        670.0HP Electric Motor Electric Fuel System  \n",
      "157092                Electric Motor Electric Fuel System  \n",
      "178342        425.0HP Electric Motor Electric Fuel System  \n",
      "113127  283.0HP 3.6L V6 Cylinder Engine Flex Fuel Capa...  \n",
      "83165   247.0HP 2.0L 4 Cylinder Engine Plug-In Electri...  \n"
     ]
    }
   ],
   "source": [
    "updated_cases = train_df_3[(train_df_3['fuel_type_orig'] != train_df_2['fuel_type'])]\n",
    "print(updated_cases[['fuel_type', 'fuel_type_orig', 'direct_extract_fuel_type', 'complex_extract_fuel_type', 'engine']].sample(n=20))\n",
    "updated_cases[['fuel_type', 'fuel_type_orig', 'direct_extract_fuel_type', 'complex_extract_fuel_type', 'engine']].to_excel('data/temp/improved_updated_cases.xlsx', index=False)"
   ]
  },
  {
   "cell_type": "markdown",
   "metadata": {},
   "source": [
    "Plug-in Cases 에러 핸들링"
   ]
  },
  {
   "cell_type": "code",
   "execution_count": 28,
   "metadata": {},
   "outputs": [
    {
     "name": "stdout",
     "output_type": "stream",
     "text": [
      "             fuel_type  fuel_type_orig direct_extract_fuel_type  \\\n",
      "148558  Plug-In Hybrid  Plug-In Hybrid           Plug-In Hybrid   \n",
      "87626   Plug-In Hybrid  Plug-In Hybrid           Plug-In Hybrid   \n",
      "8889    Plug-In Hybrid  Plug-In Hybrid           Plug-In Hybrid   \n",
      "14964   Plug-In Hybrid  Plug-In Hybrid           Plug-In Hybrid   \n",
      "41152   Plug-In Hybrid  Plug-In Hybrid           Plug-In Hybrid   \n",
      "16514   Plug-In Hybrid  Plug-In Hybrid           Plug-In Hybrid   \n",
      "44165   Plug-In Hybrid  Plug-In Hybrid           Plug-In Hybrid   \n",
      "157752  Plug-In Hybrid  Plug-In Hybrid           Plug-In Hybrid   \n",
      "52244   Plug-In Hybrid  Plug-In Hybrid           Plug-In Hybrid   \n",
      "88784   Plug-In Hybrid  Plug-In Hybrid           Plug-In Hybrid   \n",
      "54016   Plug-In Hybrid  Plug-In Hybrid           Plug-In Hybrid   \n",
      "137063  Plug-In Hybrid  Plug-In Hybrid           Plug-In Hybrid   \n",
      "20471         Electric  Plug-In Hybrid                 Electric   \n",
      "7133    Plug-In Hybrid  Plug-In Hybrid           Plug-In Hybrid   \n",
      "124349  Plug-In Hybrid  Plug-In Hybrid           Plug-In Hybrid   \n",
      "141270  Plug-In Hybrid  Plug-In Hybrid           Plug-In Hybrid   \n",
      "169702  Plug-In Hybrid  Plug-In Hybrid           Plug-In Hybrid   \n",
      "40200   Plug-In Hybrid  Plug-In Hybrid           Plug-In Hybrid   \n",
      "100956  Plug-In Hybrid  Plug-In Hybrid           Plug-In Hybrid   \n",
      "99681   Plug-In Hybrid  Plug-In Hybrid           Plug-In Hybrid   \n",
      "\n",
      "       complex_extract_fuel_type  \\\n",
      "148558             not supported   \n",
      "87626              not supported   \n",
      "8889               not supported   \n",
      "14964              not supported   \n",
      "41152              not supported   \n",
      "16514              not supported   \n",
      "44165              not supported   \n",
      "157752             not supported   \n",
      "52244              not supported   \n",
      "88784              not supported   \n",
      "54016              not supported   \n",
      "137063             not supported   \n",
      "20471              not supported   \n",
      "7133               not supported   \n",
      "124349             not supported   \n",
      "141270             not supported   \n",
      "169702             not supported   \n",
      "40200              not supported   \n",
      "100956             not supported   \n",
      "99681              not supported   \n",
      "\n",
      "                                                   engine  \\\n",
      "148558  247.0HP 2.0L 4 Cylinder Engine Plug-In Electri...   \n",
      "87626   357.0HP 1.5L 3 Cylinder Engine Plug-In Electri...   \n",
      "8889    302.0HP 2.5L 4 Cylinder Engine Plug-In Electri...   \n",
      "14964   247.0HP 2.0L 4 Cylinder Engine Plug-In Electri...   \n",
      "41152   389.0HP 3.0L Straight 6 Cylinder Engine Plug-I...   \n",
      "16514   247.0HP 2.0L 4 Cylinder Engine Plug-In Electri...   \n",
      "44165   357.0HP 1.5L 3 Cylinder Engine Plug-In Electri...   \n",
      "157752  416.0HP 3.0L V6 Cylinder Engine Plug-In Electr...   \n",
      "52244   375.0HP 2.0L 4 Cylinder Engine Plug-In Electri...   \n",
      "88784   261.0HP 1.6L 4 Cylinder Engine Plug-In Electri...   \n",
      "54016   416.0HP 3.0L V6 Cylinder Engine Plug-In Electr...   \n",
      "137063  369.0HP 1.5L 3 Cylinder Engine Plug-In Electri...   \n",
      "20471                                            Electric   \n",
      "7133    455.0HP 2.0L 4 Cylinder Engine Plug-In Electri...   \n",
      "124349  416.0HP 3.0L V6 Cylinder Engine Plug-In Electr...   \n",
      "141270  221.0HP 2.5L 4 Cylinder Engine Plug-In Electri...   \n",
      "169702  369.0HP 1.5L 3 Cylinder Engine Plug-In Electri...   \n",
      "40200   400.0HP 2.0L 4 Cylinder Engine Plug-In Electri...   \n",
      "100956  416.0HP 3.0L V6 Cylinder Engine Plug-In Electr...   \n",
      "99681   261.0HP 1.6L 4 Cylinder Engine Plug-In Electri...   \n",
      "\n",
      "                                             engine_lower  \n",
      "148558  247.0hp 2.0l 4 cylinder engine plug-in electri...  \n",
      "87626   357.0hp 1.5l 3 cylinder engine plug-in electri...  \n",
      "8889    302.0hp 2.5l 4 cylinder engine plug-in electri...  \n",
      "14964   247.0hp 2.0l 4 cylinder engine plug-in electri...  \n",
      "41152   389.0hp 3.0l straight 6 cylinder engine plug-i...  \n",
      "16514   247.0hp 2.0l 4 cylinder engine plug-in electri...  \n",
      "44165   357.0hp 1.5l 3 cylinder engine plug-in electri...  \n",
      "157752  416.0hp 3.0l v6 cylinder engine plug-in electr...  \n",
      "52244   375.0hp 2.0l 4 cylinder engine plug-in electri...  \n",
      "88784   261.0hp 1.6l 4 cylinder engine plug-in electri...  \n",
      "54016   416.0hp 3.0l v6 cylinder engine plug-in electr...  \n",
      "137063  369.0hp 1.5l 3 cylinder engine plug-in electri...  \n",
      "20471                                            electric  \n",
      "7133    455.0hp 2.0l 4 cylinder engine plug-in electri...  \n",
      "124349  416.0hp 3.0l v6 cylinder engine plug-in electr...  \n",
      "141270  221.0hp 2.5l 4 cylinder engine plug-in electri...  \n",
      "169702  369.0hp 1.5l 3 cylinder engine plug-in electri...  \n",
      "40200   400.0hp 2.0l 4 cylinder engine plug-in electri...  \n",
      "100956  416.0hp 3.0l v6 cylinder engine plug-in electr...  \n",
      "99681   261.0hp 1.6l 4 cylinder engine plug-in electri...  \n"
     ]
    }
   ],
   "source": [
    "plug_in_cases = updated_cases[updated_cases['fuel_type_orig'] == 'Plug-In Hybrid']\n",
    "print(plug_in_cases[['fuel_type', 'fuel_type_orig', 'direct_extract_fuel_type', 'complex_extract_fuel_type', 'engine', 'engine_lower']].sample(n=20))\n",
    "plug_in_cases[['fuel_type', 'fuel_type_orig', 'direct_extract_fuel_type', 'complex_extract_fuel_type', 'engine', 'engine_lower']].to_excel('data/temp/improved_plug_in_cases.xlsx', index=False)"
   ]
  },
  {
   "cell_type": "markdown",
   "metadata": {},
   "source": [
    "Flex Fuel 에러 핸들링"
   ]
  },
  {
   "cell_type": "code",
   "execution_count": 29,
   "metadata": {},
   "outputs": [
    {
     "name": "stdout",
     "output_type": "stream",
     "text": [
      "            fuel_type fuel_type_orig direct_extract_fuel_type  \\\n",
      "121096  E85 Flex Fuel  E85 Flex Fuel            E85 Flex Fuel   \n",
      "168629  E85 Flex Fuel  E85 Flex Fuel            E85 Flex Fuel   \n",
      "129525  E85 Flex Fuel  E85 Flex Fuel            E85 Flex Fuel   \n",
      "49182   E85 Flex Fuel  E85 Flex Fuel            E85 Flex Fuel   \n",
      "19911   E85 Flex Fuel  E85 Flex Fuel            E85 Flex Fuel   \n",
      "144852  E85 Flex Fuel  E85 Flex Fuel            E85 Flex Fuel   \n",
      "3828    E85 Flex Fuel  E85 Flex Fuel            E85 Flex Fuel   \n",
      "36798   E85 Flex Fuel  E85 Flex Fuel            E85 Flex Fuel   \n",
      "85911   E85 Flex Fuel  E85 Flex Fuel            E85 Flex Fuel   \n",
      "160120  E85 Flex Fuel  E85 Flex Fuel            E85 Flex Fuel   \n",
      "123890  E85 Flex Fuel  E85 Flex Fuel            E85 Flex Fuel   \n",
      "107713  E85 Flex Fuel  E85 Flex Fuel            not supported   \n",
      "67397   E85 Flex Fuel  E85 Flex Fuel            E85 Flex Fuel   \n",
      "187424  E85 Flex Fuel  E85 Flex Fuel            E85 Flex Fuel   \n",
      "91690   E85 Flex Fuel  E85 Flex Fuel            E85 Flex Fuel   \n",
      "178395  E85 Flex Fuel  E85 Flex Fuel            E85 Flex Fuel   \n",
      "86493   E85 Flex Fuel  E85 Flex Fuel            not supported   \n",
      "100393  E85 Flex Fuel  E85 Flex Fuel            E85 Flex Fuel   \n",
      "144129  E85 Flex Fuel  E85 Flex Fuel            E85 Flex Fuel   \n",
      "188331  E85 Flex Fuel  E85 Flex Fuel            E85 Flex Fuel   \n",
      "\n",
      "       complex_extract_fuel_type  \\\n",
      "121096             E85 Flex Fuel   \n",
      "168629             E85 Flex Fuel   \n",
      "129525             E85 Flex Fuel   \n",
      "49182              E85 Flex Fuel   \n",
      "19911              E85 Flex Fuel   \n",
      "144852             E85 Flex Fuel   \n",
      "3828               E85 Flex Fuel   \n",
      "36798              E85 Flex Fuel   \n",
      "85911              E85 Flex Fuel   \n",
      "160120             E85 Flex Fuel   \n",
      "123890             E85 Flex Fuel   \n",
      "107713             E85 Flex Fuel   \n",
      "67397              E85 Flex Fuel   \n",
      "187424             E85 Flex Fuel   \n",
      "91690              E85 Flex Fuel   \n",
      "178395             E85 Flex Fuel   \n",
      "86493              E85 Flex Fuel   \n",
      "100393             E85 Flex Fuel   \n",
      "144129             E85 Flex Fuel   \n",
      "188331             E85 Flex Fuel   \n",
      "\n",
      "                                                   engine  \\\n",
      "121096  300.0HP 3.7L V6 Cylinder Engine Flex Fuel Capa...   \n",
      "168629  295.0HP 3.6L V6 Cylinder Engine Flex Fuel Capa...   \n",
      "129525  300.0HP 3.7L V6 Cylinder Engine Flex Fuel Capa...   \n",
      "49182   152.0HP 3.0L V6 Cylinder Engine Flex Fuel Capa...   \n",
      "19911   290.0HP 3.6L V6 Cylinder Engine Flex Fuel Capa...   \n",
      "144852  300.0HP 3.7L V6 Cylinder Engine Flex Fuel Capa...   \n",
      "3828    275.0HP 3.7L V6 Cylinder Engine Flex Fuel Capa...   \n",
      "36798   240.0HP 3.0L V6 Cylinder Engine Flex Fuel Capa...   \n",
      "85911   290.0HP 3.6L V6 Cylinder Engine Flex Fuel Capa...   \n",
      "160120  283.0HP 3.6L V6 Cylinder Engine Flex Fuel Capa...   \n",
      "123890  290.0HP 3.6L V6 Cylinder Engine Flex Fuel Capa...   \n",
      "107713           2.0L I4 16V GDI DOHC Turbo Flexible Fuel   \n",
      "67397   275.0HP 3.7L V6 Cylinder Engine Flex Fuel Capa...   \n",
      "187424  300.0HP 3.7L V6 Cylinder Engine Flex Fuel Capa...   \n",
      "91690   300.0HP 3.7L V6 Cylinder Engine Flex Fuel Capa...   \n",
      "178395  290.0HP 3.5L V6 Cylinder Engine Flex Fuel Capa...   \n",
      "86493                 6.2L V8 16V MPFI SOHC Flexible Fuel   \n",
      "100393  283.0HP 3.6L V6 Cylinder Engine Flex Fuel Capa...   \n",
      "144129  290.0HP 3.6L V6 Cylinder Engine Flex Fuel Capa...   \n",
      "188331  283.0HP 3.6L V6 Cylinder Engine Flex Fuel Capa...   \n",
      "\n",
      "                                             engine_lower  \n",
      "121096  300.0hp 3.7l v6 cylinder engine flex fuel capa...  \n",
      "168629  295.0hp 3.6l v6 cylinder engine flex fuel capa...  \n",
      "129525  300.0hp 3.7l v6 cylinder engine flex fuel capa...  \n",
      "49182   152.0hp 3.0l v6 cylinder engine flex fuel capa...  \n",
      "19911   290.0hp 3.6l v6 cylinder engine flex fuel capa...  \n",
      "144852  300.0hp 3.7l v6 cylinder engine flex fuel capa...  \n",
      "3828    275.0hp 3.7l v6 cylinder engine flex fuel capa...  \n",
      "36798   240.0hp 3.0l v6 cylinder engine flex fuel capa...  \n",
      "85911   290.0hp 3.6l v6 cylinder engine flex fuel capa...  \n",
      "160120  283.0hp 3.6l v6 cylinder engine flex fuel capa...  \n",
      "123890  290.0hp 3.6l v6 cylinder engine flex fuel capa...  \n",
      "107713           2.0l i4 16v gdi dohc turbo flexible fuel  \n",
      "67397   275.0hp 3.7l v6 cylinder engine flex fuel capa...  \n",
      "187424  300.0hp 3.7l v6 cylinder engine flex fuel capa...  \n",
      "91690   300.0hp 3.7l v6 cylinder engine flex fuel capa...  \n",
      "178395  290.0hp 3.5l v6 cylinder engine flex fuel capa...  \n",
      "86493                 6.2l v8 16v mpfi sohc flexible fuel  \n",
      "100393  283.0hp 3.6l v6 cylinder engine flex fuel capa...  \n",
      "144129  290.0hp 3.6l v6 cylinder engine flex fuel capa...  \n",
      "188331  283.0hp 3.6l v6 cylinder engine flex fuel capa...  \n"
     ]
    }
   ],
   "source": [
    "# E85 Flex Fuel\n",
    "flex_fuel_cases = updated_cases[updated_cases['fuel_type_orig'] == 'E85 Flex Fuel']\n",
    "print(flex_fuel_cases[['fuel_type', 'fuel_type_orig', 'direct_extract_fuel_type', 'complex_extract_fuel_type', 'engine', 'engine_lower']].sample(n=20))\n",
    "flex_fuel_cases[['fuel_type', 'fuel_type_orig', 'direct_extract_fuel_type', 'complex_extract_fuel_type', 'engine', 'engine_lower']].to_excel('data/temp/improved_flex_fuel_cases.xlsx', index=False)"
   ]
  },
  {
   "cell_type": "code",
   "execution_count": 30,
   "metadata": {},
   "outputs": [
    {
     "name": "stdout",
     "output_type": "stream",
     "text": [
      "       fuel_type fuel_type_orig direct_extract_fuel_type  \\\n",
      "148233  Gasoline  E85 Flex Fuel            not supported   \n",
      "37136   Gasoline  E85 Flex Fuel            not supported   \n",
      "34527   Gasoline  E85 Flex Fuel            not supported   \n",
      "84118   Electric  E85 Flex Fuel                 Electric   \n",
      "168158  Gasoline  E85 Flex Fuel            not supported   \n",
      "145114  Gasoline  E85 Flex Fuel            not supported   \n",
      "60643   Gasoline  E85 Flex Fuel            not supported   \n",
      "131900  Gasoline  E85 Flex Fuel            not supported   \n",
      "131907  Gasoline  E85 Flex Fuel            not supported   \n",
      "163402  Gasoline  E85 Flex Fuel            not supported   \n",
      "73272   Gasoline  E85 Flex Fuel            not supported   \n",
      "71992   Gasoline  E85 Flex Fuel            not supported   \n",
      "89541   Gasoline  E85 Flex Fuel            not supported   \n",
      "32390   Gasoline  E85 Flex Fuel            not supported   \n",
      "118948  Gasoline  E85 Flex Fuel            not supported   \n",
      "148662  Gasoline  E85 Flex Fuel                 Gasoline   \n",
      "115418  Gasoline  E85 Flex Fuel            not supported   \n",
      "49621   Gasoline  E85 Flex Fuel                 Gasoline   \n",
      "48122   Gasoline  E85 Flex Fuel            not supported   \n",
      "175146  Gasoline  E85 Flex Fuel            not supported   \n",
      "\n",
      "       complex_extract_fuel_type  \\\n",
      "148233                  Gasoline   \n",
      "37136                   Gasoline   \n",
      "34527                   Gasoline   \n",
      "84118                   Electric   \n",
      "168158                  Gasoline   \n",
      "145114                  Gasoline   \n",
      "60643                   Gasoline   \n",
      "131900                  Gasoline   \n",
      "131907                  Gasoline   \n",
      "163402                  Gasoline   \n",
      "73272                   Gasoline   \n",
      "71992                   Gasoline   \n",
      "89541                   Gasoline   \n",
      "32390                   Gasoline   \n",
      "118948                  Gasoline   \n",
      "148662             not supported   \n",
      "115418                  Gasoline   \n",
      "49621              not supported   \n",
      "48122                   Gasoline   \n",
      "175146                  Gasoline   \n",
      "\n",
      "                                                   engine  \\\n",
      "148233                               5.7L V8 16V MPFI OHV   \n",
      "37136                                 5.3L V8 16V GDI OHV   \n",
      "34527                                           5.3 Liter   \n",
      "84118         835.0HP Electric Motor Electric Fuel System   \n",
      "168158                               2.5L I4 16V GDI DOHC   \n",
      "145114                                    2.0 Liter Turbo   \n",
      "60643                                5.7L V8 16V MPFI OHV   \n",
      "131900                                          5.0 Liter   \n",
      "131907                                          3.0 Liter   \n",
      "163402                               5.0L V8 32V PDI DOHC   \n",
      "73272                                3.6L V6 24V GDI DOHC   \n",
      "71992                                3.6L V6 24V GDI DOHC   \n",
      "89541                                      2.0 Liter TFSI   \n",
      "32390                                3.6L V6 24V GDI DOHC   \n",
      "118948                                          5.3 Liter   \n",
      "148662  425.0HP 3.0L Straight 6 Cylinder Engine Gasoli...   \n",
      "115418                                5.3L V8 16V GDI OHV   \n",
      "49621        138.0HP 1.4L 4 Cylinder Engine Gasoline Fuel   \n",
      "48122                                 5.3L V8 16V GDI OHV   \n",
      "175146                    3.5L V6 24V PDI DOHC Twin Turbo   \n",
      "\n",
      "                                             engine_lower  \n",
      "148233                               5.7l v8 16v mpfi ohv  \n",
      "37136                                 5.3l v8 16v gdi ohv  \n",
      "34527                                           5.3 liter  \n",
      "84118         835.0hp electric motor electric fuel system  \n",
      "168158                               2.5l i4 16v gdi dohc  \n",
      "145114                                    2.0 liter turbo  \n",
      "60643                                5.7l v8 16v mpfi ohv  \n",
      "131900                                          5.0 liter  \n",
      "131907                                          3.0 liter  \n",
      "163402                               5.0l v8 32v pdi dohc  \n",
      "73272                                3.6l v6 24v gdi dohc  \n",
      "71992                                3.6l v6 24v gdi dohc  \n",
      "89541                                      2.0 liter tfsi  \n",
      "32390                                3.6l v6 24v gdi dohc  \n",
      "118948                                          5.3 liter  \n",
      "148662  425.0hp 3.0l straight 6 cylinder engine gasoli...  \n",
      "115418                                5.3l v8 16v gdi ohv  \n",
      "49621        138.0hp 1.4l 4 cylinder engine gasoline fuel  \n",
      "48122                                 5.3l v8 16v gdi ohv  \n",
      "175146                    3.5l v6 24v pdi dohc twin turbo  \n"
     ]
    }
   ],
   "source": [
    "mismatch_flex_fuel_cases = updated_cases[(updated_cases['fuel_type_orig'] == 'E85 Flex Fuel') & (updated_cases['fuel_type'] != 'E85 Flex Fuel')]\n",
    "print(mismatch_flex_fuel_cases[['fuel_type', 'fuel_type_orig', 'direct_extract_fuel_type', 'complex_extract_fuel_type', 'engine', 'engine_lower']].sample(n=20))\n",
    "mismatch_flex_fuel_cases[['fuel_type', 'fuel_type_orig', 'direct_extract_fuel_type', 'complex_extract_fuel_type', 'engine', 'engine_lower']].to_excel('data/temp/improved_mismatch_flex_fuel_cases.xlsx', index=False)"
   ]
  },
  {
   "cell_type": "markdown",
   "metadata": {},
   "source": [
    "- 해당 사항들은 맞게 픽스된 케이스로 보임"
   ]
  },
  {
   "cell_type": "markdown",
   "metadata": {},
   "source": [
    "Not supported -> Electric 케이스 확인"
   ]
  },
  {
   "cell_type": "code",
   "execution_count": 31,
   "metadata": {},
   "outputs": [
    {
     "name": "stdout",
     "output_type": "stream",
     "text": [
      "4988\n",
      "891\n"
     ]
    }
   ],
   "source": [
    "orig_not_supported_cases = train_df_3[train_df_3['fuel_type_orig'] == 'not supported']\n",
    "orig_not_supported_to_electric_cases = orig_not_supported_cases[orig_not_supported_cases['fuel_type'].str.lower() == 'electric']\n",
    "orig_not_supported_to_not_electric_cases = orig_not_supported_cases[orig_not_supported_cases['fuel_type'].str.lower() != 'electric']\n",
    "\n",
    "print(len(orig_not_supported_to_electric_cases))\n",
    "print(len(orig_not_supported_to_not_electric_cases))\n"
   ]
  },
  {
   "cell_type": "markdown",
   "metadata": {},
   "source": [
    "상당수가 electric 인것을 봐서 만약 결측치를 모두 not supported 으로 분류했을 경우, 일종의 electric class 를 만든것과 비슷한 효과를 줬을수도 있을듯"
   ]
  },
  {
   "cell_type": "markdown",
   "metadata": {},
   "source": [
    "# 영석님 추가 아이디어 내용 확인"
   ]
  },
  {
   "cell_type": "markdown",
   "metadata": {},
   "source": [
    "TFSI 케이스 확인"
   ]
  },
  {
   "cell_type": "code",
   "execution_count": 32,
   "metadata": {},
   "outputs": [
    {
     "name": "stdout",
     "output_type": "stream",
     "text": [
      "       fuel_type fuel_type_orig direct_extract_fuel_type  \\\n",
      "67891   Gasoline         Hybrid            not supported   \n",
      "100536  Gasoline         Hybrid            not supported   \n",
      "104171  Gasoline       Gasoline            not supported   \n",
      "146161  Gasoline         Hybrid            not supported   \n",
      "17519   Gasoline       Gasoline            not supported   \n",
      "30786   Gasoline       Gasoline            not supported   \n",
      "163574  Gasoline       Gasoline            not supported   \n",
      "150863  Gasoline       Gasoline            not supported   \n",
      "25200   Gasoline         Hybrid            not supported   \n",
      "138263  Gasoline       Gasoline            not supported   \n",
      "169101  Gasoline         Hybrid            not supported   \n",
      "181585  Gasoline         Hybrid            not supported   \n",
      "166242  Gasoline         Hybrid            not supported   \n",
      "34034   Gasoline         Hybrid            not supported   \n",
      "184788  Gasoline         Hybrid            not supported   \n",
      "42236   Gasoline         Diesel            not supported   \n",
      "128485  Gasoline       Gasoline            not supported   \n",
      "147843  Gasoline         Hybrid            not supported   \n",
      "163848  Gasoline       Gasoline            not supported   \n",
      "34767   Gasoline         Hybrid            not supported   \n",
      "\n",
      "       complex_extract_fuel_type          engine    engine_lower  \n",
      "67891                   Gasoline  2.0 Liter TFSI  2.0 liter tfsi  \n",
      "100536                  Gasoline  2.0 Liter TFSI  2.0 liter tfsi  \n",
      "104171                  Gasoline  2.0 Liter TFSI  2.0 liter tfsi  \n",
      "146161                  Gasoline  3.0 Liter TFSI  3.0 liter tfsi  \n",
      "17519                   Gasoline  2.0 Liter TFSI  2.0 liter tfsi  \n",
      "30786                   Gasoline  2.0 Liter TFSI  2.0 liter tfsi  \n",
      "163574                  Gasoline  2.0 Liter TFSI  2.0 liter tfsi  \n",
      "150863                  Gasoline  2.0 Liter TFSI  2.0 liter tfsi  \n",
      "25200                   Gasoline  3.0 Liter TFSI  3.0 liter tfsi  \n",
      "138263                  Gasoline  2.0 Liter TFSI  2.0 liter tfsi  \n",
      "169101                  Gasoline  2.0 Liter TFSI  2.0 liter tfsi  \n",
      "181585                  Gasoline  2.0 Liter TFSI  2.0 liter tfsi  \n",
      "166242                  Gasoline  3.0 Liter TFSI  3.0 liter tfsi  \n",
      "34034                   Gasoline  2.0 Liter TFSI  2.0 liter tfsi  \n",
      "184788                  Gasoline  2.0 Liter TFSI  2.0 liter tfsi  \n",
      "42236                   Gasoline  3.0 Liter TFSI  3.0 liter tfsi  \n",
      "128485                  Gasoline  3.0 Liter TFSI  3.0 liter tfsi  \n",
      "147843                  Gasoline  2.0 Liter TFSI  2.0 liter tfsi  \n",
      "163848                  Gasoline  2.0 Liter TFSI  2.0 liter tfsi  \n",
      "34767                   Gasoline  2.0 Liter TFSI  2.0 liter tfsi  \n"
     ]
    }
   ],
   "source": [
    "tfsi_cases = train_df_3[train_df_3['engine'].str.lower().str.contains('tfsi')]\n",
    "print(tfsi_cases[['fuel_type', 'fuel_type_orig', 'direct_extract_fuel_type', 'complex_extract_fuel_type', 'engine', 'engine_lower']].sample(n=20))\n",
    "tfsi_cases[['fuel_type', 'fuel_type_orig', 'direct_extract_fuel_type', 'complex_extract_fuel_type', 'engine', 'engine_lower']].to_excel('data/temp/improved_tfsi_cases.xlsx', index=False)"
   ]
  },
  {
   "cell_type": "markdown",
   "metadata": {},
   "source": [
    "브랜드 확인"
   ]
  },
  {
   "cell_type": "code",
   "execution_count": 33,
   "metadata": {},
   "outputs": [
    {
     "name": "stdout",
     "output_type": "stream",
     "text": [
      "        brand fuel_type fuel_type_orig direct_extract_fuel_type  \\\n",
      "22356   Tesla  Electric  not supported                 Electric   \n",
      "155555  Tesla  Electric  not supported                 Electric   \n",
      "48756   Tesla  Electric  not supported                 Electric   \n",
      "149504  Tesla  Electric  not supported                 Electric   \n",
      "164998  Tesla  Electric  not supported                 Electric   \n",
      "89544   Tesla  Electric  not supported                 Electric   \n",
      "79461   Tesla  Electric  not supported                 Electric   \n",
      "41336   Tesla  Electric  not supported                 Electric   \n",
      "110577  Tesla  Electric       Gasoline                 Electric   \n",
      "146582  Tesla  Electric  not supported                 Electric   \n",
      "172408  Tesla  Electric  not supported                 Electric   \n",
      "180168  Tesla  Electric  not supported            not supported   \n",
      "173362  Tesla  Electric  not supported                 Electric   \n",
      "125650  Tesla  Electric  not supported                 Electric   \n",
      "3072    Tesla  Electric  not supported                 Electric   \n",
      "18489   Tesla  Electric  not supported                 Electric   \n",
      "182439  Tesla  Electric  not supported                 Electric   \n",
      "15897   Tesla  Electric  not supported                 Electric   \n",
      "24618   Tesla  Electric  not supported                 Electric   \n",
      "42415   Tesla  Electric  not supported                 Electric   \n",
      "\n",
      "       complex_extract_fuel_type  \\\n",
      "22356                   Electric   \n",
      "155555                  Electric   \n",
      "48756                   Electric   \n",
      "149504                  Electric   \n",
      "164998                  Electric   \n",
      "89544                   Electric   \n",
      "79461                   Electric   \n",
      "41336                   Electric   \n",
      "110577                  Electric   \n",
      "146582                  Electric   \n",
      "172408                  Electric   \n",
      "180168                  Electric   \n",
      "173362                  Electric   \n",
      "125650                  Electric   \n",
      "3072                    Electric   \n",
      "18489                   Electric   \n",
      "182439                  Electric   \n",
      "15897                   Electric   \n",
      "24618                   Electric   \n",
      "42415                   Electric   \n",
      "\n",
      "                                              engine  \\\n",
      "22356    425.0HP Electric Motor Electric Fuel System   \n",
      "155555   455.0HP Electric Motor Electric Fuel System   \n",
      "48756    425.0HP Electric Motor Electric Fuel System   \n",
      "149504   425.0HP Electric Motor Electric Fuel System   \n",
      "164998   518.0HP Electric Motor Electric Fuel System   \n",
      "89544    455.0HP Electric Motor Electric Fuel System   \n",
      "79461            Electric Motor Electric Fuel System   \n",
      "41336    422.0HP Electric Motor Electric Fuel System   \n",
      "110577   455.0HP Electric Motor Electric Fuel System   \n",
      "146582   518.0HP Electric Motor Electric Fuel System   \n",
      "172408   670.0HP Electric Motor Electric Fuel System   \n",
      "180168                         Dual Motor - Standard   \n",
      "173362   425.0HP Electric Motor Electric Fuel System   \n",
      "125650  1020.0HP Electric Motor Electric Fuel System   \n",
      "3072     422.0HP Electric Motor Electric Fuel System   \n",
      "18489    425.0HP Electric Motor Electric Fuel System   \n",
      "182439   518.0HP Electric Motor Electric Fuel System   \n",
      "15897    670.0HP Electric Motor Electric Fuel System   \n",
      "24618    518.0HP Electric Motor Electric Fuel System   \n",
      "42415    518.0HP Electric Motor Electric Fuel System   \n",
      "\n",
      "                                        engine_lower  \n",
      "22356    425.0hp electric motor electric fuel system  \n",
      "155555   455.0hp electric motor electric fuel system  \n",
      "48756    425.0hp electric motor electric fuel system  \n",
      "149504   425.0hp electric motor electric fuel system  \n",
      "164998   518.0hp electric motor electric fuel system  \n",
      "89544    455.0hp electric motor electric fuel system  \n",
      "79461            electric motor electric fuel system  \n",
      "41336    422.0hp electric motor electric fuel system  \n",
      "110577   455.0hp electric motor electric fuel system  \n",
      "146582   518.0hp electric motor electric fuel system  \n",
      "172408   670.0hp electric motor electric fuel system  \n",
      "180168                         dual motor - standard  \n",
      "173362   425.0hp electric motor electric fuel system  \n",
      "125650  1020.0hp electric motor electric fuel system  \n",
      "3072     422.0hp electric motor electric fuel system  \n",
      "18489    425.0hp electric motor electric fuel system  \n",
      "182439   518.0hp electric motor electric fuel system  \n",
      "15897    670.0hp electric motor electric fuel system  \n",
      "24618    518.0hp electric motor electric fuel system  \n",
      "42415    518.0hp electric motor electric fuel system  \n"
     ]
    }
   ],
   "source": [
    "brand_tesla_cases = train_df_3[train_df_3['brand'].str.lower().str.contains('tesla')]\n",
    "print(brand_tesla_cases[['brand', 'fuel_type', 'fuel_type_orig', 'direct_extract_fuel_type', 'complex_extract_fuel_type', 'engine', 'engine_lower']].sample(n=20))\n",
    "brand_tesla_cases[['brand', 'fuel_type', 'fuel_type_orig', 'direct_extract_fuel_type', 'complex_extract_fuel_type', 'engine', 'engine_lower']].to_excel('data/temp/improved_brand_tesla_cases.xlsx', index=False)"
   ]
  },
  {
   "cell_type": "code",
   "execution_count": 34,
   "metadata": {},
   "outputs": [
    {
     "name": "stdout",
     "output_type": "stream",
     "text": [
      "        brand      fuel_type fuel_type_orig direct_extract_fuel_type  \\\n",
      "45350   Tesla       Gasoline       Gasoline                 Gasoline   \n",
      "170260  Tesla       Gasoline       Gasoline                 Gasoline   \n",
      "162457  Tesla       Gasoline       Gasoline                 Gasoline   \n",
      "45144   Tesla       Gasoline       Gasoline            not supported   \n",
      "116523  Tesla       Gasoline  not supported            not supported   \n",
      "36846   Tesla       Gasoline       Gasoline                 Gasoline   \n",
      "34817   Tesla  E85 Flex Fuel  E85 Flex Fuel            E85 Flex Fuel   \n",
      "152891  Tesla  not supported  not supported            not supported   \n",
      "119617  Tesla       Gasoline  not supported                 Gasoline   \n",
      "161518  Tesla  not supported  not supported            not supported   \n",
      "3416    Tesla       Gasoline       Gasoline                 Gasoline   \n",
      "64397   Tesla       Gasoline       Gasoline            not supported   \n",
      "115752  Tesla       Gasoline         Hybrid            not supported   \n",
      "186509  Tesla       Gasoline  not supported            not supported   \n",
      "22048   Tesla       Gasoline  not supported            not supported   \n",
      "39948   Tesla       Gasoline       Gasoline                 Gasoline   \n",
      "36511   Tesla       Gasoline       Gasoline                 Gasoline   \n",
      "69418   Tesla       Gasoline  not supported            not supported   \n",
      "149492  Tesla       Gasoline  not supported            not supported   \n",
      "44647   Tesla       Gasoline  not supported            not supported   \n",
      "\n",
      "       complex_extract_fuel_type  \\\n",
      "45350              not supported   \n",
      "170260             not supported   \n",
      "162457             not supported   \n",
      "45144                   Gasoline   \n",
      "116523                  Gasoline   \n",
      "36846              not supported   \n",
      "34817              E85 Flex Fuel   \n",
      "152891             not supported   \n",
      "119617             not supported   \n",
      "161518             not supported   \n",
      "3416               not supported   \n",
      "64397                   Gasoline   \n",
      "115752                  Gasoline   \n",
      "186509                  Gasoline   \n",
      "22048                   Gasoline   \n",
      "39948              not supported   \n",
      "36511              not supported   \n",
      "69418                   Gasoline   \n",
      "149492                  Gasoline   \n",
      "44647                   Gasoline   \n",
      "\n",
      "                                                   engine  \\\n",
      "45350        670.0HP 5.5L 8 Cylinder Engine Gasoline Fuel   \n",
      "170260  425.0HP 3.0L Straight 6 Cylinder Engine Gasoli...   \n",
      "162457      304.0HP 3.6L V6 Cylinder Engine Gasoline Fuel   \n",
      "45144                                           3.0 Liter   \n",
      "116523                                          5.6 Liter   \n",
      "36846        180.0HP 2.4L 4 Cylinder Engine Gasoline Fuel   \n",
      "34817   381.0HP 5.7L 8 Cylinder Engine Flex Fuel Capab...   \n",
      "152891                                                  –   \n",
      "119617      288.0HP 3.6L V6 Cylinder Engine Gasoline Fuel   \n",
      "161518                                                  –   \n",
      "3416         285.0HP 4.8L 8 Cylinder Engine Gasoline Fuel   \n",
      "64397                                           3.0 Liter   \n",
      "115752                                          3.5 Liter   \n",
      "186509                                          5.0 Liter   \n",
      "22048                                           5.0 Liter   \n",
      "39948        355.0HP 5.3L 8 Cylinder Engine Gasoline Fuel   \n",
      "36511        255.0HP 2.0L 4 Cylinder Engine Gasoline Fuel   \n",
      "69418                                5.0L V8 32V PDI DOHC   \n",
      "149492                                    3.0 Liter Turbo   \n",
      "44647                                           5.0 Liter   \n",
      "\n",
      "                                             engine_lower  \n",
      "45350        670.0hp 5.5l 8 cylinder engine gasoline fuel  \n",
      "170260  425.0hp 3.0l straight 6 cylinder engine gasoli...  \n",
      "162457      304.0hp 3.6l v6 cylinder engine gasoline fuel  \n",
      "45144                                           3.0 liter  \n",
      "116523                                          5.6 liter  \n",
      "36846        180.0hp 2.4l 4 cylinder engine gasoline fuel  \n",
      "34817   381.0hp 5.7l 8 cylinder engine flex fuel capab...  \n",
      "152891                                                  –  \n",
      "119617      288.0hp 3.6l v6 cylinder engine gasoline fuel  \n",
      "161518                                                  –  \n",
      "3416         285.0hp 4.8l 8 cylinder engine gasoline fuel  \n",
      "64397                                           3.0 liter  \n",
      "115752                                          3.5 liter  \n",
      "186509                                          5.0 liter  \n",
      "22048                                           5.0 liter  \n",
      "39948        355.0hp 5.3l 8 cylinder engine gasoline fuel  \n",
      "36511        255.0hp 2.0l 4 cylinder engine gasoline fuel  \n",
      "69418                                5.0l v8 32v pdi dohc  \n",
      "149492                                    3.0 liter turbo  \n",
      "44647                                           5.0 liter  \n"
     ]
    }
   ],
   "source": [
    "brand_tesla_no_electric_Cases = brand_tesla_cases[brand_tesla_cases['fuel_type'].str.lower() != 'electric']\n",
    "print(brand_tesla_no_electric_Cases[['brand', 'fuel_type', 'fuel_type_orig', 'direct_extract_fuel_type', 'complex_extract_fuel_type', 'engine', 'engine_lower']].sample(n=20))\n",
    "brand_tesla_no_electric_Cases[['brand', 'fuel_type', 'fuel_type_orig', 'direct_extract_fuel_type', 'complex_extract_fuel_type', 'engine', 'engine_lower']].to_excel('data/temp/improved_brand_tesla_no_electric_Cases.xlsx', index=False)"
   ]
  },
  {
   "cell_type": "code",
   "execution_count": 35,
   "metadata": {},
   "outputs": [
    {
     "name": "stdout",
     "output_type": "stream",
     "text": [
      "         brand      fuel_type fuel_type_orig direct_extract_fuel_type  \\\n",
      "72413   Rivian       Gasoline       Gasoline                 Gasoline   \n",
      "72294   Rivian       Gasoline  not supported            not supported   \n",
      "28220   Rivian       Gasoline       Gasoline                 Gasoline   \n",
      "26407   Rivian       Gasoline       Gasoline            not supported   \n",
      "118459  Rivian       Gasoline       Gasoline            not supported   \n",
      "144984  Rivian       Gasoline       Gasoline                 Gasoline   \n",
      "11216   Rivian       Gasoline       Gasoline                 Gasoline   \n",
      "33720   Rivian       Gasoline       Gasoline            not supported   \n",
      "22017   Rivian       Gasoline       Gasoline                 Gasoline   \n",
      "12389   Rivian  not supported  not supported            not supported   \n",
      "132315  Rivian       Gasoline  not supported            not supported   \n",
      "56691   Rivian       Gasoline  not supported            not supported   \n",
      "137430  Rivian       Gasoline       Gasoline                 Gasoline   \n",
      "141388  Rivian       Gasoline       Gasoline            not supported   \n",
      "89281   Rivian       Gasoline  not supported            not supported   \n",
      "2694    Rivian  not supported  not supported            not supported   \n",
      "11667   Rivian       Gasoline  not supported            not supported   \n",
      "35115   Rivian       Gasoline  not supported            not supported   \n",
      "82099   Rivian       Gasoline  not supported            not supported   \n",
      "17476   Rivian       Gasoline       Gasoline            not supported   \n",
      "\n",
      "       complex_extract_fuel_type  \\\n",
      "72413              not supported   \n",
      "72294                   Gasoline   \n",
      "28220              not supported   \n",
      "26407                   Gasoline   \n",
      "118459                  Gasoline   \n",
      "144984             not supported   \n",
      "11216              not supported   \n",
      "33720                   Gasoline   \n",
      "22017              not supported   \n",
      "12389              not supported   \n",
      "132315                  Gasoline   \n",
      "56691                   Gasoline   \n",
      "137430             not supported   \n",
      "141388                  Gasoline   \n",
      "89281                   Gasoline   \n",
      "2694               not supported   \n",
      "11667                   Gasoline   \n",
      "35115                   Gasoline   \n",
      "82099                   Gasoline   \n",
      "17476                   Gasoline   \n",
      "\n",
      "                                               engine  \\\n",
      "72413    276.0HP 2.0L 4 Cylinder Engine Gasoline Fuel   \n",
      "72294                8.0L W16 64V GDI DOHC Twin Turbo   \n",
      "28220   365.0HP 3.3L V6 Cylinder Engine Gasoline Fuel   \n",
      "26407                8.0L W16 64V GDI DOHC Twin Turbo   \n",
      "118459               8.0L W16 64V GDI DOHC Twin Turbo   \n",
      "144984   252.0HP 2.0L 4 Cylinder Engine Gasoline Fuel   \n",
      "11216    400.0HP 5.6L 8 Cylinder Engine Gasoline Fuel   \n",
      "33720                            5.0L V8 32V PDI DOHC   \n",
      "22017   788.0HP 6.5L 12 Cylinder Engine Gasoline Fuel   \n",
      "12389                                               –   \n",
      "132315                     1.6L I4 16V GDI DOHC Turbo   \n",
      "56691               5.0L V8 32V GDI DOHC Supercharged   \n",
      "137430  400.0HP 3.0L V6 Cylinder Engine Gasoline Fuel   \n",
      "141388               8.0L W16 64V GDI DOHC Twin Turbo   \n",
      "89281                8.0L W16 64V GDI DOHC Twin Turbo   \n",
      "2694                                                –   \n",
      "11667                8.0L W16 64V GDI DOHC Twin Turbo   \n",
      "35115                                       5.5 Liter   \n",
      "82099                8.0L W16 64V GDI DOHC Twin Turbo   \n",
      "17476                                 2.0 Liter Turbo   \n",
      "\n",
      "                                         engine_lower  \n",
      "72413    276.0hp 2.0l 4 cylinder engine gasoline fuel  \n",
      "72294                8.0l w16 64v gdi dohc twin turbo  \n",
      "28220   365.0hp 3.3l v6 cylinder engine gasoline fuel  \n",
      "26407                8.0l w16 64v gdi dohc twin turbo  \n",
      "118459               8.0l w16 64v gdi dohc twin turbo  \n",
      "144984   252.0hp 2.0l 4 cylinder engine gasoline fuel  \n",
      "11216    400.0hp 5.6l 8 cylinder engine gasoline fuel  \n",
      "33720                            5.0l v8 32v pdi dohc  \n",
      "22017   788.0hp 6.5l 12 cylinder engine gasoline fuel  \n",
      "12389                                               –  \n",
      "132315                     1.6l i4 16v gdi dohc turbo  \n",
      "56691               5.0l v8 32v gdi dohc supercharged  \n",
      "137430  400.0hp 3.0l v6 cylinder engine gasoline fuel  \n",
      "141388               8.0l w16 64v gdi dohc twin turbo  \n",
      "89281                8.0l w16 64v gdi dohc twin turbo  \n",
      "2694                                                –  \n",
      "11667                8.0l w16 64v gdi dohc twin turbo  \n",
      "35115                                       5.5 liter  \n",
      "82099                8.0l w16 64v gdi dohc twin turbo  \n",
      "17476                                 2.0 liter turbo  \n"
     ]
    }
   ],
   "source": [
    "brand_rivian_cases = train_df_3[train_df_3['brand'].str.lower().str.contains('rivian')]\n",
    "brand_rivian_no_electric_Cases = brand_rivian_cases[brand_rivian_cases['fuel_type'].str.lower() != 'electric']\n",
    "print(brand_rivian_no_electric_Cases[['brand', 'fuel_type', 'fuel_type_orig', 'direct_extract_fuel_type', 'complex_extract_fuel_type', 'engine', 'engine_lower']].sample(n=20))\n",
    "brand_rivian_no_electric_Cases[['brand', 'fuel_type', 'fuel_type_orig', 'direct_extract_fuel_type', 'complex_extract_fuel_type', 'engine', 'engine_lower']].to_excel('data/temp/improved_brand_rivian_no_electric_Cases.xlsx', index=False)"
   ]
  },
  {
   "cell_type": "code",
   "execution_count": 37,
   "metadata": {},
   "outputs": [
    {
     "name": "stdout",
     "output_type": "stream",
     "text": [
      "       brand fuel_type fuel_type_orig direct_extract_fuel_type  \\\n",
      "2256   Lucid  Gasoline       Gasoline                 Gasoline   \n",
      "13875  Lucid  Gasoline       Gasoline            not supported   \n",
      "43281  Lucid  Gasoline       Gasoline            not supported   \n",
      "48359  Lucid  Gasoline       Gasoline            not supported   \n",
      "58545  Lucid  Gasoline       Gasoline                 Gasoline   \n",
      "\n",
      "      complex_extract_fuel_type  \\\n",
      "2256              not supported   \n",
      "13875                  Gasoline   \n",
      "43281                  Gasoline   \n",
      "48359                  Gasoline   \n",
      "58545             not supported   \n",
      "\n",
      "                                              engine  \\\n",
      "2256   262.0HP 3.5L V6 Cylinder Engine Gasoline Fuel   \n",
      "13875                          5.2L V10 40V GDI DOHC   \n",
      "43281                            5.3L V8 16V GDI OHV   \n",
      "48359               5.2L V12 48V GDI DOHC Twin Turbo   \n",
      "58545   536.0HP 5.5L 8 Cylinder Engine Gasoline Fuel   \n",
      "\n",
      "                                        engine_lower  \n",
      "2256   262.0hp 3.5l v6 cylinder engine gasoline fuel  \n",
      "13875                          5.2l v10 40v gdi dohc  \n",
      "43281                            5.3l v8 16v gdi ohv  \n",
      "48359               5.2l v12 48v gdi dohc twin turbo  \n",
      "58545   536.0hp 5.5l 8 cylinder engine gasoline fuel  \n"
     ]
    }
   ],
   "source": [
    "brand_lucid_cases = train_df_3[train_df_3['brand'].str.lower().str.contains('lucid')]\n",
    "brand_lucid_no_electric_Cases = brand_lucid_cases[brand_lucid_cases['fuel_type'].str.lower() != 'electric']\n",
    "print(brand_lucid_no_electric_Cases[['brand', 'fuel_type', 'fuel_type_orig', 'direct_extract_fuel_type', 'complex_extract_fuel_type', 'engine', 'engine_lower']].head())\n",
    "brand_lucid_no_electric_Cases[['brand', 'fuel_type', 'fuel_type_orig', 'direct_extract_fuel_type', 'complex_extract_fuel_type', 'engine', 'engine_lower']].to_excel('data/temp/improved_brand_lucid_no_electric_Cases.xlsx', index=False)"
   ]
  },
  {
   "cell_type": "markdown",
   "metadata": {},
   "source": [
    "Hydrogen Cases 확인"
   ]
  },
  {
   "cell_type": "code",
   "execution_count": 38,
   "metadata": {},
   "outputs": [
    {
     "name": "stdout",
     "output_type": "stream",
     "text": [
      "      fuel_type fuel_type_orig direct_extract_fuel_type  \\\n",
      "18025  Electric       Gasoline                 Electric   \n",
      "19182  Electric  not supported                 Electric   \n",
      "23138  Electric  not supported                 Electric   \n",
      "24737  Electric         Hybrid                 Electric   \n",
      "33030  Electric  not supported                 Electric   \n",
      "\n",
      "      complex_extract_fuel_type                                engine  \\\n",
      "18025                  Electric  151.0HP Electric Motor Hydrogen Fuel   \n",
      "19182                  Electric  182.0HP Electric Motor Hydrogen Fuel   \n",
      "23138                  Electric  182.0HP Electric Motor Hydrogen Fuel   \n",
      "24737                  Electric  151.0HP Electric Motor Hydrogen Fuel   \n",
      "33030                  Electric  182.0HP Electric Motor Hydrogen Fuel   \n",
      "\n",
      "                               engine_lower  \n",
      "18025  151.0hp electric motor hydrogen fuel  \n",
      "19182  182.0hp electric motor hydrogen fuel  \n",
      "23138  182.0hp electric motor hydrogen fuel  \n",
      "24737  151.0hp electric motor hydrogen fuel  \n",
      "33030  182.0hp electric motor hydrogen fuel  \n"
     ]
    }
   ],
   "source": [
    "hydrogen_cases = train_df_3[(train_df_3['engine'].str.lower().str.contains('hydrogen')) | (train_df_3['engine'].str.lower().str.contains('fuel cell'))]\n",
    "print(hydrogen_cases[['fuel_type', 'fuel_type_orig', 'direct_extract_fuel_type', 'complex_extract_fuel_type', 'engine', 'engine_lower']].head())\n",
    "hydrogen_cases[['fuel_type', 'fuel_type_orig', 'direct_extract_fuel_type', 'complex_extract_fuel_type', 'engine', 'engine_lower']].to_excel('data/temp/improved_hydrogen_cases.xlsx', index=False)"
   ]
  },
  {
   "cell_type": "markdown",
   "metadata": {},
   "source": [
    "Plug-In Hybrid Cases 확인"
   ]
  },
  {
   "cell_type": "code",
   "execution_count": 39,
   "metadata": {},
   "outputs": [
    {
     "name": "stdout",
     "output_type": "stream",
     "text": [
      "           fuel_type  fuel_type_orig direct_extract_fuel_type  \\\n",
      "116   Plug-In Hybrid  Plug-In Hybrid           Plug-In Hybrid   \n",
      "213   Plug-In Hybrid  Plug-In Hybrid           Plug-In Hybrid   \n",
      "1605  Plug-In Hybrid  Plug-In Hybrid           Plug-In Hybrid   \n",
      "2825  Plug-In Hybrid  Plug-In Hybrid           Plug-In Hybrid   \n",
      "2834  Plug-In Hybrid          Hybrid           Plug-In Hybrid   \n",
      "\n",
      "     complex_extract_fuel_type  \\\n",
      "116              not supported   \n",
      "213              not supported   \n",
      "1605             not supported   \n",
      "2825             not supported   \n",
      "2834             not supported   \n",
      "\n",
      "                                                 engine  \\\n",
      "116   389.0HP 3.0L Straight 6 Cylinder Engine Plug-I...   \n",
      "213   389.0HP 3.0L Straight 6 Cylinder Engine Plug-I...   \n",
      "1605  369.0HP 1.5L 3 Cylinder Engine Plug-In Electri...   \n",
      "2825  416.0HP 3.0L V6 Cylinder Engine Plug-In Electr...   \n",
      "2834  416.0HP 3.0L V6 Cylinder Engine Plug-In Electr...   \n",
      "\n",
      "                                           engine_lower  \n",
      "116   389.0hp 3.0l straight 6 cylinder engine plug-i...  \n",
      "213   389.0hp 3.0l straight 6 cylinder engine plug-i...  \n",
      "1605  369.0hp 1.5l 3 cylinder engine plug-in electri...  \n",
      "2825  416.0hp 3.0l v6 cylinder engine plug-in electr...  \n",
      "2834  416.0hp 3.0l v6 cylinder engine plug-in electr...  \n"
     ]
    }
   ],
   "source": [
    "plug_in_hybrid_cases = train_df_3[train_df_3['fuel_type'].str.lower().str.contains('plug-in')]\n",
    "print(plug_in_hybrid_cases[['fuel_type', 'fuel_type_orig', 'direct_extract_fuel_type', 'complex_extract_fuel_type', 'engine', 'engine_lower']].head())\n",
    "plug_in_hybrid_cases[['fuel_type', 'fuel_type_orig', 'direct_extract_fuel_type', 'complex_extract_fuel_type', 'engine', 'engine_lower']].to_excel('data/temp/improved_plug_in_hybrid_cases.xlsx', index=False)"
   ]
  },
  {
   "cell_type": "code",
   "execution_count": null,
   "metadata": {},
   "outputs": [],
   "source": []
  }
 ],
 "metadata": {
  "kernelspec": {
   "display_name": ".venv",
   "language": "python",
   "name": "python3"
  },
  "language_info": {
   "codemirror_mode": {
    "name": "ipython",
    "version": 3
   },
   "file_extension": ".py",
   "mimetype": "text/x-python",
   "name": "python",
   "nbconvert_exporter": "python",
   "pygments_lexer": "ipython3",
   "version": "3.12.2"
  }
 },
 "nbformat": 4,
 "nbformat_minor": 2
}
