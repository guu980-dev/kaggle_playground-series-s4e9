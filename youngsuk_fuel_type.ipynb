{
 "cells": [
  {
   "cell_type": "code",
   "execution_count": 59,
   "metadata": {},
   "outputs": [],
   "source": [
    "import pandas as pd\n",
    "\n",
    "train_df = pd.read_csv('/Users/seok/Documents/Data Science/Kaggle/playground-series-s4e9/train.csv')\n",
    "test_df = pd.read_csv('/Users/seok/Documents/Data Science/Kaggle/playground-series-s4e9/test.csv')"
   ]
  },
  {
   "cell_type": "code",
   "execution_count": 60,
   "metadata": {},
   "outputs": [],
   "source": [
    "def fix_land_rover_model(df):\n",
    "    # 'brand'가 'Land'이고 'model'이 'Rover'로 시작하는 경우\n",
    "    land_rover_condition = (df['brand'] == 'Land') & (df['model'].str.startswith('Rover'))\n",
    "    \n",
    "    # 해당 조건을 만족하는 행의 'brand'를 'Land Rover'로 수정\n",
    "    df.loc[land_rover_condition, 'brand'] = 'Land Rover'\n",
    "    \n",
    "    # 'model'에서 첫 번째 'Rover'만 제거하고 나머지 모델명을 유지\n",
    "    df.loc[land_rover_condition, 'model'] = df.loc[land_rover_condition, 'model'].str.replace('^Rover', '', case=False, regex=True).str.strip()\n",
    "\n",
    "    return df\n",
    "\n",
    "# 데이터에 적용\n",
    "train_df = fix_land_rover_model(train_df)\n"
   ]
  },
  {
   "cell_type": "code",
   "execution_count": 61,
   "metadata": {},
   "outputs": [
    {
     "data": {
      "text/plain": [
       "fuel_type\n",
       "Gasoline          165940\n",
       "Hybrid              6832\n",
       "E85 Flex Fuel       5406\n",
       "Diesel              3955\n",
       "–                    781\n",
       "Plug-In Hybrid       521\n",
       "not supported         15\n",
       "Name: count, dtype: int64"
      ]
     },
     "execution_count": 61,
     "metadata": {},
     "output_type": "execute_result"
    }
   ],
   "source": [
    "train_df['fuel_type'].value_counts()"
   ]
  },
  {
   "cell_type": "code",
   "execution_count": 62,
   "metadata": {},
   "outputs": [
    {
     "name": "stdout",
     "output_type": "stream",
     "text": [
      "     fuel_type fuel_type_extracted  \\\n",
      "41    Gasoline              Diesel   \n",
      "1337  Gasoline              Diesel   \n",
      "2228  Gasoline              Diesel   \n",
      "2321  Gasoline              Diesel   \n",
      "2350  Gasoline              Diesel   \n",
      "\n",
      "                                          engine         mismatch_flag  \n",
      "41    450.0HP 6.7L 8 Cylinder Engine Diesel Fuel  Significant Mismatch  \n",
      "1337  161.0HP 2.0L 4 Cylinder Engine Diesel Fuel  Significant Mismatch  \n",
      "2228  475.0HP 6.7L 8 Cylinder Engine Diesel Fuel  Significant Mismatch  \n",
      "2321  475.0HP 6.7L 8 Cylinder Engine Diesel Fuel  Significant Mismatch  \n",
      "2350  397.0HP 6.6L 8 Cylinder Engine Diesel Fuel  Significant Mismatch  \n"
     ]
    }
   ],
   "source": [
    "# 결측치 처리\n",
    "def clean_fuel_type(df):\n",
    "    # NaN과 '-'를 함께 처리\n",
    "    df['fuel_type'] = df['fuel_type'].fillna('not supported').replace(['-', '–'], 'not supported')\n",
    "    return df\n",
    "\n",
    "# engine 컬럼에서 fuel_type 추출\n",
    "def extract_fuel_from_engine(df):\n",
    "    extracted_fuel_types = []\n",
    "    for engine in df['engine']:\n",
    "        engine = engine.lower() if isinstance(engine, str) else ''\n",
    "        \n",
    "        if 'plug-in hybrid' in engine:\n",
    "            extracted_fuel_types.append('Plug-In Hybrid')\n",
    "        # 'hybrid' 관련 패턴을 좀 더 정확히 정의\n",
    "        elif 'hybrid' in engine or 'gas/electric' in engine or 'gasoline/mild electric' in engine or 'electric/gas' in engine:\n",
    "            extracted_fuel_types.append('Hybrid')\n",
    "        # 'gasoline', 'gasoline fuel', 또는 'TFSI'가 포함된 경우 명확히 Gasoline으로 분류\n",
    "        elif 'gasoline' in engine or 'gasoline fuel' in engine or 'TFSI' in engine:\n",
    "            extracted_fuel_types.append('Gasoline')\n",
    "        elif 'diesel' in engine:\n",
    "            extracted_fuel_types.append('Diesel')\n",
    "        elif 'flex fuel' in engine:\n",
    "            extracted_fuel_types.append('E85 Flex Fuel')\n",
    "        elif 'electric' in engine:\n",
    "            extracted_fuel_types.append('Electric')\n",
    "        else:\n",
    "            extracted_fuel_types.append('not supported')\n",
    "    \n",
    "    df['fuel_type_extracted'] = extracted_fuel_types\n",
    "    return df\n",
    "\n",
    "def update_fuel_type(df):\n",
    "    # 기존 fuel_type이 유효하지 않은 경우에만 업데이트\n",
    "    df.loc[df['fuel_type'].isin(['not supported']) | df['fuel_type'].isna(), 'fuel_type'] = df['fuel_type_extracted']\n",
    "    return df\n",
    "\n",
    "def adjust_fuel_type_mismatches(df):\n",
    "    df.loc[(df['fuel_type'] == 'Hybrid') & (df['fuel_type_extracted'] == 'Gasoline'), 'fuel_type_extracted'] = 'Hybrid'\n",
    "    df['mismatch_flag'] = df.apply(lambda row: 'Significant Mismatch' if \n",
    "                                   (row['fuel_type'] == 'Gasoline' and row['fuel_type_extracted'] == 'Diesel') or\n",
    "                                   (row['fuel_type'] == 'Diesel' and row['fuel_type_extracted'] == 'Gasoline') else '', axis=1)\n",
    "    df.loc[df['fuel_type_extracted'] == 'not supported', 'fuel_type_extracted'] = df['fuel_type']\n",
    "    return df\n",
    "\n",
    "# Applying the logic\n",
    "train_df = clean_fuel_type(train_df)\n",
    "train_df = extract_fuel_from_engine(train_df)\n",
    "train_df = update_fuel_type(train_df)\n",
    "train_df = label_electric_brands(train_df)\n",
    "train_df = adjust_fuel_type_mismatches(train_df)\n",
    "\n",
    "# Check for significant mismatches\n",
    "significant_mismatches = train_df[train_df['mismatch_flag'] != '']\n",
    "print(significant_mismatches[['fuel_type', 'fuel_type_extracted', 'engine', 'mismatch_flag']].head())\n"
   ]
  },
  {
   "cell_type": "code",
   "execution_count": 63,
   "metadata": {},
   "outputs": [
    {
     "data": {
      "text/plain": [
       "fuel_type\n",
       "Gasoline          165523\n",
       "Hybrid              6833\n",
       "Electric            5455\n",
       "E85 Flex Fuel       5405\n",
       "Diesel              3956\n",
       "not supported        840\n",
       "Plug-In Hybrid       521\n",
       "Name: count, dtype: int64"
      ]
     },
     "execution_count": 63,
     "metadata": {},
     "output_type": "execute_result"
    }
   ],
   "source": [
    "train_df['fuel_type'].value_counts()"
   ]
  },
  {
   "cell_type": "code",
   "execution_count": 48,
   "metadata": {},
   "outputs": [
    {
     "data": {
      "text/html": [
       "<div>\n",
       "<style scoped>\n",
       "    .dataframe tbody tr th:only-of-type {\n",
       "        vertical-align: middle;\n",
       "    }\n",
       "\n",
       "    .dataframe tbody tr th {\n",
       "        vertical-align: top;\n",
       "    }\n",
       "\n",
       "    .dataframe thead th {\n",
       "        text-align: right;\n",
       "    }\n",
       "</style>\n",
       "<table border=\"1\" class=\"dataframe\">\n",
       "  <thead>\n",
       "    <tr style=\"text-align: right;\">\n",
       "      <th></th>\n",
       "      <th>fuel_type</th>\n",
       "      <th>fuel_type_extracted</th>\n",
       "      <th>engine</th>\n",
       "    </tr>\n",
       "  </thead>\n",
       "  <tbody>\n",
       "  </tbody>\n",
       "</table>\n",
       "</div>"
      ],
      "text/plain": [
       "Empty DataFrame\n",
       "Columns: [fuel_type, fuel_type_extracted, engine]\n",
       "Index: []"
      ]
     },
     "execution_count": 48,
     "metadata": {},
     "output_type": "execute_result"
    }
   ],
   "source": [
    "def update_fuel_type_on_mismatch(df):\n",
    "    # fuel_type과 fuel_type_extracted가 불일치하는 경우에만 fuel_type을 수정\n",
    "    mismatch_condition = df['fuel_type'] != df['fuel_type_extracted']\n",
    "    \n",
    "    # fuel_type이 engine에서 추출한 정보와 다를 때만 수정\n",
    "    df.loc[mismatch_condition, 'fuel_type'] = df.loc[mismatch_condition, 'fuel_type_extracted']\n",
    "    \n",
    "    return df\n",
    "\n",
    "# Apply the mismatch update function\n",
    "train_df = update_fuel_type_on_mismatch(train_df)\n",
    "\n",
    "# 확인을 위해 fuel_type과 fuel_type_extracted가 달랐던 부분을 출력\n",
    "mismatch_df = train_df[train_df['fuel_type'] != train_df['fuel_type_extracted']]\n",
    "\n",
    "# 결과 출력\n",
    "mismatch_df[['fuel_type', 'fuel_type_extracted', 'engine']].head()\n"
   ]
  },
  {
   "cell_type": "code",
   "execution_count": 49,
   "metadata": {},
   "outputs": [
    {
     "data": {
      "text/plain": [
       "fuel_type\n",
       "Gasoline          164833\n",
       "Hybrid              7619\n",
       "Electric            5605\n",
       "E85 Flex Fuel       5435\n",
       "Diesel              4188\n",
       "not supported        840\n",
       "Plug-In Hybrid        13\n",
       "Name: count, dtype: int64"
      ]
     },
     "execution_count": 49,
     "metadata": {},
     "output_type": "execute_result"
    }
   ],
   "source": [
    "train_df['fuel_type'].value_counts()"
   ]
  },
  {
   "cell_type": "code",
   "execution_count": 66,
   "metadata": {},
   "outputs": [
    {
     "data": {
      "text/plain": [
       "fuel_type\n",
       "Gasoline         165405\n",
       "Hybrid             7307\n",
       "Electric           5671\n",
       "E85 Flex Fuel      5402\n",
       "Diesel             3937\n",
       "not supported       811\n",
       "Name: count, dtype: int64"
      ]
     },
     "execution_count": 66,
     "metadata": {},
     "output_type": "execute_result"
    }
   ],
   "source": [
    "# Plug-In Hybrid -> Hybrid 변환\n",
    "def convert_plug_in_hybrid_to_hybrid(df):\n",
    "    df.loc[df['fuel_type'] == 'Plug-In Hybrid', 'fuel_type'] = 'Hybrid'\n",
    "    return df\n",
    "\n",
    "# Hydrogen 라벨링\n",
    "def label_hydrogen_from_engine(df):\n",
    "    hydrogen_conditions = df['engine'].str.contains('hydrogen|fuel cell', case=False, na=False)\n",
    "    df.loc[hydrogen_conditions, 'fuel_type'] = 'Hydrogen'\n",
    "    return df\n",
    "\n",
    "# Electric 모델 수동 라벨링\n",
    "def label_electric_models(df, electric_models):\n",
    "    df.loc[df['model'].str.contains('|'.join(electric_models), case=False, na=False), 'fuel_type'] = 'Electric'\n",
    "    return df\n",
    "\n",
    "# Engine 정보에서 Electric 관련 패턴 라벨링\n",
    "def label_electric_from_engine(df):\n",
    "    electric_conditions = df['engine'].str.contains('battery|dual motor|motor', case=False, na=False)\n",
    "    df.loc[electric_conditions, 'fuel_type'] = 'Electric'\n",
    "    return df\n",
    "\n",
    "# 'not supported' 처리\n",
    "def handle_not_supported_fuel_types(df):\n",
    "    df['fuel_type'] = df['fuel_type'].replace('–', 'not supported')\n",
    "    df['fuel_type'] = df['fuel_type'].fillna('not supported')\n",
    "    return df\n",
    "\n",
    "# 최종 전처리 프로세스\n",
    "def preprocess_fuel_types(df):\n",
    "    df = convert_plug_in_hybrid_to_hybrid(df)\n",
    "    df = label_hydrogen_from_engine(df)\n",
    "    df = label_electric_models(df, electric_models=['mustang mach-e', 'taycan', 'bolt euv', 'kona ev', 'ioniq 5', 'hummer ev', 'EV6 Wind'])\n",
    "    df = label_electric_from_engine(df)\n",
    "    df = handle_not_supported_fuel_types(df)\n",
    "    return df\n",
    "\n",
    "# 데이터 전처리 적용\n",
    "train_df = preprocess_fuel_types(train_df)\n",
    "\n",
    "# 결과 확인\n",
    "train_df['fuel_type'].value_counts()\n"
   ]
  },
  {
   "cell_type": "code",
   "execution_count": 69,
   "metadata": {},
   "outputs": [
    {
     "data": {
      "text/plain": [
       "fuel_type\n",
       "Gasoline         166063\n",
       "Hybrid             6665\n",
       "Electric           5661\n",
       "E85 Flex Fuel      5401\n",
       "Diesel             3936\n",
       "not supported       807\n",
       "Name: count, dtype: int64"
      ]
     },
     "execution_count": 69,
     "metadata": {},
     "output_type": "execute_result"
    }
   ],
   "source": [
    "# Gasoline 강제 라벨링\n",
    "def force_gasoline_update(df):\n",
    "    # engine에 'gasoline fuel' 또는 'TFSI'가 포함된 경우 fuel_type을 무조건 Gasoline으로 설정\n",
    "    gasoline_condition = df['engine'].str.contains('gasoline fuel|TFSI', case=False, na=False)\n",
    "    \n",
    "    # 해당 조건을 만족하는 경우 fuel_type을 'Gasoline'으로 강제 변경\n",
    "    df.loc[gasoline_condition, 'fuel_type'] = 'Gasoline'\n",
    "    \n",
    "    return df\n",
    "\n",
    "train_df = force_gasoline_update(train_df)\n",
    "\n",
    "train_df['fuel_type'].value_counts()"
   ]
  },
  {
   "cell_type": "code",
   "execution_count": null,
   "metadata": {},
   "outputs": [],
   "source": [
    "train_df[train_df['fuel_type'] == 'not supported']"
   ]
  },
  {
   "cell_type": "code",
   "execution_count": 16,
   "metadata": {},
   "outputs": [
    {
     "name": "stdout",
     "output_type": "stream",
     "text": [
      "Diesel-Gasoline mismatch cases: 0\n",
      "Empty DataFrame\n",
      "Columns: [fuel_type, engine, model, brand]\n",
      "Index: []\n"
     ]
    }
   ],
   "source": [
    "# Diesel-Gasoline mismatch cases: 0\n",
    "# Empty DataFrame\n",
    "# Columns: [fuel_type, engine, model, brand]\n",
    "# Index: []"
   ]
  },
  {
   "cell_type": "code",
   "execution_count": 27,
   "metadata": {},
   "outputs": [],
   "source": [
    "import pandas as pd\n",
    "\n",
    "# Pandas 옵션을 설정하여 출력이 잘리지 않도록 설정\n",
    "pd.set_option('display.max_columns', None)  # 모든 열을 출력\n",
    "pd.set_option('display.max_rows', None)     # 모든 행을 출력\n",
    "pd.set_option('display.max_colwidth', None) # 각 열의 값을 잘리지 않도록 설정\n",
    "\n",
    "# # 'fuel_type'이 'Hybrid'인 데이터를 완전하게 출력\n",
    "# train_df[train_df['fuel_type'] == 'Hybrid']\n",
    "\n"
   ]
  },
  {
   "cell_type": "code",
   "execution_count": null,
   "metadata": {},
   "outputs": [],
   "source": [
    "train_df[train_df['fuel_type'] == 'Hybrid']"
   ]
  },
  {
   "cell_type": "code",
   "execution_count": 74,
   "metadata": {},
   "outputs": [],
   "source": [
    "def force_label_electric_brands(df):\n",
    "    # 전기차 브랜드 목록\n",
    "    electric_only_brands = ['Tesla', 'Rivian', 'Lucid']\n",
    "    \n",
    "    # 해당 브랜드에 속하는 차량들의 fuel_type을 강제로 'Electric'으로 설정\n",
    "    df.loc[df['brand'].isin(electric_only_brands), 'fuel_type'] = 'Electric'\n",
    "    \n",
    "    return df\n",
    "\n",
    "# train_df에 적용\n",
    "train_df = force_label_electric_brands(train_df)"
   ]
  },
  {
   "cell_type": "code",
   "execution_count": 75,
   "metadata": {},
   "outputs": [],
   "source": [
    "# not supported 데이터 fuel_type 추론 (using ChatGPT)\n",
    "\n",
    "# 도메인 지식을 바탕으로 연료 유형 추론 (더 많은 모델 포함)\n",
    "fuel_type_map = {\n",
    "    # Dodge\n",
    "    \"Dodge Challenger R/T Scat Pack\": \"Gasoline\",\n",
    "    \"Dodge Challenger R/T\": \"Gasoline\",\n",
    "    \"Dodge Ram 1500 SRT-10 Quad Cab\": \"Gasoline\",\n",
    "    \"Dodge Charger R/T\": \"Gasoline\",\n",
    "    \n",
    "    # Ford\n",
    "    \"Ford Mustang GT Premium\": \"Gasoline\",\n",
    "    \"Ford Mustang EcoBoost Premium\": \"Gasoline\",\n",
    "    \"Ford Bronco XLT\": \"Gasoline\",\n",
    "    \"Ford F-150 Raptor\": \"Gasoline\",\n",
    "    \"Ford F-150 XLT\": \"Gasoline\",\n",
    "    \n",
    "    # Toyota\n",
    "    \"Toyota Land Cruiser Base\": \"Gasoline\",\n",
    "    \"Toyota Prius Four\": \"Hybrid\",\n",
    "    \"Toyota Corolla LE\": \"Gasoline\",\n",
    "    \"Toyota Camry SE\": \"Gasoline\",\n",
    "    \n",
    "    # Chevrolet\n",
    "    \"Chevrolet Protege DX\": \"Gasoline\",\n",
    "    \"Chevrolet Corvette Base\": \"Gasoline\",\n",
    "    \"Chevrolet Camaro SS\": \"Gasoline\",\n",
    "    \"Chevrolet Avalanche 1500 LS\": \"Gasoline\",\n",
    "    \n",
    "    # Tesla\n",
    "    \"Tesla Model S\": \"Electric\",\n",
    "    \"Tesla Model 3\": \"Electric\",\n",
    "    \"Tesla Model X\": \"Electric\",\n",
    "    \"Tesla Model Y\": \"Electric\",\n",
    "    \n",
    "    # Hyundai\n",
    "    \"Hyundai Ioniq 5\": \"Electric\",\n",
    "    \"Hyundai Kona Electric\": \"Electric\",\n",
    "    \"Hyundai Sonata SE\": \"Gasoline\",\n",
    "    \n",
    "    # Honda\n",
    "    \"Honda Civic EX\": \"Gasoline\",\n",
    "    \"Honda Accord Touring\": \"Gasoline\",\n",
    "    \"Honda CR-V EX-L\": \"Gasoline\",\n",
    "    \"Honda Insight EX\": \"Hybrid\",\n",
    "    \n",
    "    # Nissan\n",
    "    \"Nissan Pathfinder SV\": \"Gasoline\",\n",
    "    \"Nissan Leaf SV\": \"Electric\",\n",
    "    \"Nissan Altima SL\": \"Gasoline\",\n",
    "    \n",
    "    # BMW\n",
    "    \"BMW 330i\": \"Gasoline\",\n",
    "    \"BMW X5 xDrive45e\": \"Plug-In Hybrid\",\n",
    "    \"BMW i3\": \"Electric\",\n",
    "    \n",
    "    # Mercedes-Benz\n",
    "    \"Mercedes-Benz C-Class\": \"Gasoline\",\n",
    "    \"Mercedes-Benz GLE 350\": \"Gasoline\",\n",
    "    \n",
    "    # Audi\n",
    "    \"Audi Q5 45 TFSI\": \"Gasoline\",\n",
    "    \"Audi A3 Premium\": \"Gasoline\",\n",
    "    \"Audi e-tron\": \"Electric\",\n",
    "    \n",
    "    # Volkswagen\n",
    "    \"Volkswagen Jetta GLX VR6\": \"Gasoline\",\n",
    "    \"Volkswagen ID.4\": \"Electric\",\n",
    "    \n",
    "    # Kia\n",
    "    \"Kia EV6 Wind\": \"Electric\",\n",
    "    \"Kia Soul EV\": \"Electric\",\n",
    "    \"Kia Sorento LX\": \"Gasoline\",\n",
    "    \n",
    "    # RAM\n",
    "    \"RAM 1500 Classic Warlock\": \"Gasoline\",\n",
    "    \n",
    "    # Cadillac\n",
    "    \"Cadillac DeVille Base\": \"Gasoline\",\n",
    "    \n",
    "    # Chrysler\n",
    "    \"Chrysler 300M Base\": \"Gasoline\",\n",
    "    \"Chrysler Town & Country Touring-L\": \"Gasoline\",\n",
    "    \n",
    "    # Mazda\n",
    "    \"Mazda Mazda6 i Grand Touring\": \"Gasoline\",\n",
    "    \n",
    "    # 기타 추가적인 도메인 지식을 바탕으로 모델 및 연료 유형을 추가 가능\n",
    "}\n",
    "\n",
    "# 연료 유형 추론을 위해 train_df에 적용\n",
    "def infer_fuel_type(df):\n",
    "    # model을 기반으로 fuel_type을 추론하여 새로운 컬럼에 추가\n",
    "    df['fuel_type_inferred'] = df['model'].map(fuel_type_map)\n",
    "    \n",
    "    # 추론되지 않은 모델들에 대해 'unknown' 처리\n",
    "    df['fuel_type_inferred'].fillna('unknown', inplace=True)\n",
    "    \n",
    "    return df\n",
    "\n",
    "# train_df에 적용\n",
    "train_df = infer_fuel_type(train_df)"
   ]
  },
  {
   "cell_type": "code",
   "execution_count": 76,
   "metadata": {},
   "outputs": [
    {
     "data": {
      "text/plain": [
       "fuel_type\n",
       "Gasoline         166041\n",
       "Hybrid             6665\n",
       "Electric           5683\n",
       "E85 Flex Fuel      5401\n",
       "Diesel             3936\n",
       "not supported       807\n",
       "Name: count, dtype: int64"
      ]
     },
     "execution_count": 76,
     "metadata": {},
     "output_type": "execute_result"
    }
   ],
   "source": [
    "train_df['fuel_type'].value_counts()"
   ]
  },
  {
   "cell_type": "code",
   "execution_count": 77,
   "metadata": {},
   "outputs": [
    {
     "data": {
      "text/plain": [
       "id                         0\n",
       "brand                      0\n",
       "model                      0\n",
       "model_year                 0\n",
       "milage                     0\n",
       "fuel_type                  0\n",
       "engine                     0\n",
       "transmission               0\n",
       "ext_col                    0\n",
       "int_col                    0\n",
       "accident                2452\n",
       "clean_title            21419\n",
       "price                      0\n",
       "fuel_type_extracted        0\n",
       "mismatch_flag              0\n",
       "fuel_type_inferred         0\n",
       "dtype: int64"
      ]
     },
     "execution_count": 77,
     "metadata": {},
     "output_type": "execute_result"
    }
   ],
   "source": [
    "train_df.isnull().sum()"
   ]
  },
  {
   "cell_type": "code",
   "execution_count": 79,
   "metadata": {},
   "outputs": [
    {
     "name": "stdout",
     "output_type": "stream",
     "text": [
      "<class 'pandas.core.frame.DataFrame'>\n",
      "RangeIndex: 188533 entries, 0 to 188532\n",
      "Data columns (total 16 columns):\n",
      " #   Column               Non-Null Count   Dtype \n",
      "---  ------               --------------   ----- \n",
      " 0   id                   188533 non-null  int64 \n",
      " 1   brand                188533 non-null  object\n",
      " 2   model                188533 non-null  object\n",
      " 3   model_year           188533 non-null  int64 \n",
      " 4   milage               188533 non-null  int64 \n",
      " 5   fuel_type            188533 non-null  object\n",
      " 6   engine               188533 non-null  object\n",
      " 7   transmission         188533 non-null  object\n",
      " 8   ext_col              188533 non-null  object\n",
      " 9   int_col              188533 non-null  object\n",
      " 10  accident             188533 non-null  object\n",
      " 11  clean_title          188533 non-null  object\n",
      " 12  price                188533 non-null  int64 \n",
      " 13  fuel_type_extracted  188533 non-null  object\n",
      " 14  mismatch_flag        188533 non-null  object\n",
      " 15  fuel_type_inferred   188533 non-null  object\n",
      "dtypes: int64(4), object(12)\n",
      "memory usage: 23.0+ MB\n"
     ]
    }
   ],
   "source": [
    "# accident 결측치 처리: 'None reported'로 채우기\n",
    "def handle_accident_missing(df):\n",
    "    df['accident'].fillna('None reported', inplace=True)\n",
    "    return df\n",
    "\n",
    "# clean_title 결측치 처리: accident 정보를 기반으로 처리\n",
    "def handle_clean_title_missing(df):\n",
    "    df.loc[df['accident'] == 'None reported', 'clean_title'] = df.loc[df['accident'] == 'None reported', 'clean_title'].fillna('Yes')\n",
    "    df['clean_title'].fillna('No', inplace=True)\n",
    "    return df\n",
    "\n",
    "# 결측치 처리 함수 적용\n",
    "train_df = handle_accident_missing(train_df)\n",
    "train_df = handle_clean_title_missing(train_df)\n",
    "\n",
    "# 결과 확인\n",
    "train_df.info()"
   ]
  },
  {
   "cell_type": "code",
   "execution_count": null,
   "metadata": {},
   "outputs": [],
   "source": []
  }
 ],
 "metadata": {
  "kernelspec": {
   "display_name": "Python 3",
   "language": "python",
   "name": "python3"
  },
  "language_info": {
   "codemirror_mode": {
    "name": "ipython",
    "version": 3
   },
   "file_extension": ".py",
   "mimetype": "text/x-python",
   "name": "python",
   "nbconvert_exporter": "python",
   "pygments_lexer": "ipython3",
   "version": "3.11.5"
  }
 },
 "nbformat": 4,
 "nbformat_minor": 2
}
